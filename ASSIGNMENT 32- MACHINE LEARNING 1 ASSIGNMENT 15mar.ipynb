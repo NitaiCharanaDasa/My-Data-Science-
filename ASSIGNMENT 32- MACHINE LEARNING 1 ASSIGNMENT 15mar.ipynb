{
 "cells": [
  {
   "cell_type": "markdown",
   "metadata": {},
   "source": [
    "`QUESTIONS`\n",
    "QD- E=plain thK followin* with an K=amplK-F\n",
    "C) Artificial IntKlli*KncJ\n",
    "<) MachinK LKarnin,\n",
    "I) DKKp LKarning\n",
    "\n",
    "Q2- What is supKrvisKd lKarnin*? List somK K=amplKs of supKrvisKd lKarnin*.\n",
    "\n",
    "Q3- GWhat is unsupKrvisKd lKarnin*? List somK K=amplKs of unsupKrvisKd lKarnin*.\n",
    "\n",
    "Q4- What is thK diffKrKncK bKtwKKn AI, ML, DL, and DS?\n",
    "\n",
    "Q5- What arK thK main diffKrKncKs bKtwKKn supKrvisKd, unsupKrvisKd, and sKmi-supKrvisKd lKarnin*?\n",
    "\n",
    "Q6- What is train, tKst and validation split? E=plain thK importancK of Kach tKrm.\n",
    "\n",
    "Q7- How can unsupKrvisKd lKarnin* bK usKd in anomaly dKtKction?\n",
    "\n",
    "Q8- List down somK commonly usKd supKrvisKd lKarnin* al*orithms and unsupKrvisKd lKarnin*\n",
    "al*orithms"
   ]
  },
  {
   "cell_type": "markdown",
   "metadata": {},
   "source": [
    "`ANSWERS`\n",
    "Q2: Supervised learning involves training a model on a labeled dataset where the input data is paired with corresponding output labels. Examples of supervised learning include linear regression, decision trees, and support vector machines.\n",
    "\n",
    "Q3: Unsupervised learning lacks labeled output data in the training set, and the algorithm discovers patterns and relationships within the data. Examples of unsupervised learning include clustering algorithms (e.g., K-Means), dimensionality reduction (e.g., PCA), and association rules.\n",
    "\n",
    "Q4: AI (Artificial Intelligence) is a broad field focused on creating intelligent machines. ML (Machine Learning) is a subset of AI, involving algorithms that can learn from data. DL (Deep Learning) is a subfield of ML that uses neural networks with multiple layers. DS (Data Science) involves extracting insights and knowledge from data using various techniques.\n",
    "\n",
    "Q5: In supervised learning, the model is trained on labeled data; in unsupervised learning, the model explores patterns without labeled data; semi-supervised learning uses a combination of labeled and unlabeled data for training.\n",
    "\n",
    "Q6: Train, test, and validation split involves dividing the dataset into three parts: training set (for model learning), test set (for evaluating performance), and validation set (for tuning hyperparameters). This split ensures the model generalizes well to new, unseen data.\n",
    "\n",
    "Q7: Unsupervised learning can be used in anomaly detection by identifying patterns that deviate from the norm within the data. Clustering methods and dimensionality reduction techniques can help uncover unusual patterns indicative of anomalies.\n",
    "\n",
    "Q8: Commonly used supervised learning algorithms include Linear Regression, Decision Trees, Random Forest, Support Vector Machines, and Neural Networks. Unsupervised learning algorithms include K-Means Clustering, Hierarchical Clustering, Principal Component Analysis (PCA), and Apriori Algorithm for association rule mining."
   ]
  },
  {
   "cell_type": "code",
   "execution_count": null,
   "metadata": {},
   "outputs": [],
   "source": []
  }
 ],
 "metadata": {
  "kernelspec": {
   "display_name": "Python 3",
   "language": "python",
   "name": "python3"
  },
  "language_info": {
   "codemirror_mode": {
    "name": "ipython",
    "version": 3
   },
   "file_extension": ".py",
   "mimetype": "text/x-python",
   "name": "python",
   "nbconvert_exporter": "python",
   "pygments_lexer": "ipython3",
   "version": "3.8.3"
  }
 },
 "nbformat": 4,
 "nbformat_minor": 4
}
