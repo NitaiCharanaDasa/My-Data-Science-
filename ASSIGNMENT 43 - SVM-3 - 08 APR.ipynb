{
 "cells": [
  {
   "cell_type": "markdown",
   "metadata": {},
   "source": [
    "`QUESTIOINS`\n",
    "Q1. In order to predict house price based on several characteristics, such as location, square footage,\n",
    "number of bedrooms, etc., you are developing an SVM regression model. Which regression metric in this\n",
    "situation would be the best to employ?\n",
    "\n",
    "Dataset link:\n",
    "Q2. You have built an SVM regression model and are trying to decide between using MSE or R-squared as\n",
    "your evaluation metric. Which metric would be more appropriate if your goal is to predict the actual price\n",
    "of a house as accurately as possible?\n",
    "\n",
    "Q3. You have a dataset with a significant number of outliers and are trying to select an appropriate\n",
    "regression metric to use with your SVM model. Which metric would be the most appropriate in this\n",
    "scenario?\n",
    "\n",
    "Q4. You have built an SVM regression model using a polynomial kernel and are trying to select the best\n",
    "metric to evaluate its performance. You have calculated both MSE and RMSE and found that both values\n",
    "are very close. Which metric should you choose to use in this case?\n",
    "\n",
    "Q5. You are comparing the performance of different SVM regression models using different kernels (linear,\n",
    "polynomial, and RBF) and are trying to select the best evaluation metric. Which metric would be most\n",
    "appropriate if your goal is to measure how well the model explains the variance in the target variable?"
   ]
  },
  {
   "cell_type": "markdown",
   "metadata": {},
   "source": [
    "`ANSWERS`\n",
    "**Q1. In order to predict house price based on several characteristics, such as location, square footage, number of bedrooms, etc., you are developing an SVM regression model. Which regression metric in this situation would be the best to employ?**\n",
    "\n",
    "For predicting house prices, a common regression metric to employ would be Mean Squared Error (MSE). MSE measures the average squared difference between predicted and actual values. It is suitable for regression tasks, providing a good sense of how far off the predicted values are from the actual values.\n",
    "\n",
    "**Q2. You have built an SVM regression model and are trying to decide between using MSE or R-squared as your evaluation metric. Which metric would be more appropriate if your goal is to predict the actual price of a house as accurately as possible?**\n",
    "\n",
    "If your goal is to predict the actual price of a house as accurately as possible, then using Mean Squared Error (MSE) would be more appropriate. MSE directly penalizes large errors, making it a suitable metric for regression tasks where accurate prediction of the target variable is crucial.\n",
    "\n",
    "**Q3. You have a dataset with a significant number of outliers and are trying to select an appropriate regression metric to use with your SVM model. Which metric would be the most appropriate in this scenario?**\n",
    "\n",
    "In the presence of outliers, Mean Absolute Error (MAE) would be a more appropriate regression metric. Unlike MSE, MAE is less sensitive to outliers because it measures the average absolute difference between predicted and actual values. This makes it robust in the presence of extreme values.\n",
    "\n",
    "**Q4. You have built an SVM regression model using a polynomial kernel and are trying to select the best metric to evaluate its performance. You have calculated both MSE and RMSE and found that both values are very close. Which metric should you choose to use in this case?**\n",
    "\n",
    "If MSE and RMSE are very close, either metric can be chosen based on personal preference or specific interpretability requirements. Since RMSE is the square root of MSE and provides values in the same units as the target variable, it might be preferred for ease of interpretation.\n",
    "\n",
    "**Q5. You are comparing the performance of different SVM regression models using different kernels (linear, polynomial, and RBF) and are trying to select the best evaluation metric. Which metric would be most appropriate if your goal is to measure how well the model explains the variance in the target variable?**\n",
    "\n",
    "R-squared (Coefficient of Determination) would be the most appropriate metric if the goal is to measure how well the model explains the variance in the target variable. R-squared quantifies the proportion of the variance in the dependent variable that is predictable from the independent variables. Higher R-squared values indicate a better fit, capturing a larger proportion of the variability in the target variable./"
   ]
  },
  {
   "cell_type": "code",
   "execution_count": null,
   "metadata": {},
   "outputs": [],
   "source": []
  }
 ],
 "metadata": {
  "kernelspec": {
   "display_name": "Python 3",
   "language": "python",
   "name": "python3"
  },
  "language_info": {
   "codemirror_mode": {
    "name": "ipython",
    "version": 3
   },
   "file_extension": ".py",
   "mimetype": "text/x-python",
   "name": "python",
   "nbconvert_exporter": "python",
   "pygments_lexer": "ipython3",
   "version": "3.8.3"
  }
 },
 "nbformat": 4,
 "nbformat_minor": 4
}
