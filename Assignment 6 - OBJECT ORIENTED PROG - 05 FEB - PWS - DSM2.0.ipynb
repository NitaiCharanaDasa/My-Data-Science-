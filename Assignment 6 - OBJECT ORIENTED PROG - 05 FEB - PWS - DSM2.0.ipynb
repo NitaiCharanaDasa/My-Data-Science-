{
 "cells": [
  {
   "cell_type": "markdown",
   "metadata": {},
   "source": [
    "# Assignment 6 - OBJECT ORIENTED PROG - 05 FEB - PWS - DSM2.0"
   ]
  },
  {
   "cell_type": "markdown",
   "metadata": {},
   "source": [
    "### Q1. Explain Class and Object with respect to Object-Oriented Programming. Give a suitable example."
   ]
  },
  {
   "cell_type": "markdown",
   "metadata": {},
   "source": [
    "Class - Classes are like a blueprint of the individual objects and methods. They are user defined datatypes."
   ]
  },
  {
   "cell_type": "markdown",
   "metadata": {},
   "source": [
    "Objects- Objects corresponds to real world objects or an abstract entity."
   ]
  },
  {
   "cell_type": "markdown",
   "metadata": {},
   "source": [
    "For example, the class can be \"Cars\", but the object will like \"Odi\", or \"Rolls Royce\". Cars may define some attribute like, speed, average and colour, but for all objects it will be different."
   ]
  },
  {
   "cell_type": "code",
   "execution_count": 1,
   "metadata": {},
   "outputs": [],
   "source": [
    "#with code - \n",
    "# defining a class, with properties like, speed, average and colour\n",
    "class cars:\n",
    "    def __init__(self, speed, average, colour):\n",
    "        self.speed  =speed\n",
    "        self.average = average\n",
    "        self.colour  =colour\n",
    "    \n",
    "    def getattri(self):\n",
    "        return self.speed, self.average, self.colour "
   ]
  },
  {
   "cell_type": "code",
   "execution_count": 2,
   "metadata": {},
   "outputs": [],
   "source": [
    "# defining an object of the class \"cars\"\n",
    "Alto800 = cars(65, 20, \"red\")\n",
    "#now this is an object of the class cars"
   ]
  },
  {
   "cell_type": "code",
   "execution_count": 3,
   "metadata": {},
   "outputs": [
    {
     "data": {
      "text/plain": [
       "(65, 20, 'red')"
      ]
     },
     "execution_count": 3,
     "metadata": {},
     "output_type": "execute_result"
    }
   ],
   "source": [
    "Alto800.getattri()"
   ]
  },
  {
   "cell_type": "markdown",
   "metadata": {},
   "source": [
    "### Q2. Name the four pillars of OOPs"
   ]
  },
  {
   "cell_type": "markdown",
   "metadata": {},
   "source": [
    "1. Abstraction\n",
    "2. INheritance\n",
    "3. Polymorphism\n",
    "4. Encapsulation"
   ]
  },
  {
   "cell_type": "markdown",
   "metadata": {},
   "source": [
    "### Q3. Explain why the __init__() function is used. Give a suitable example.\n"
   ]
  },
  {
   "cell_type": "markdown",
   "metadata": {},
   "source": [
    "__init()__"
   ]
  },
  {
   "cell_type": "markdown",
   "metadata": {},
   "source": [
    "init() fucntion is called a constructor, it is used to get a value simultaneously as the object is created."
   ]
  },
  {
   "cell_type": "markdown",
   "metadata": {},
   "source": [
    "It is a magic function. It is used to intialise the class and cannot return anything.\n"
   ]
  },
  {
   "cell_type": "code",
   "execution_count": 4,
   "metadata": {},
   "outputs": [],
   "source": [
    "#example with code\n",
    "#class\n",
    "class example:\n",
    "    \n",
    "    def __init__(self, string):\n",
    "        self.string = string\n",
    "    def printstring(self):\n",
    "        print(self.string)\n",
    "        "
   ]
  },
  {
   "cell_type": "code",
   "execution_count": 5,
   "metadata": {},
   "outputs": [],
   "source": [
    "#defining the object\n",
    "init = example(\"This is called initialisation and this is how init works, also this value will be saved in init self.string variable.\")"
   ]
  },
  {
   "cell_type": "code",
   "execution_count": 6,
   "metadata": {},
   "outputs": [
    {
     "name": "stdout",
     "output_type": "stream",
     "text": [
      "This is called initialisation and this is how init works, also this value will be saved in init self.string variable.\n"
     ]
    }
   ],
   "source": [
    "#to proove it\n",
    "init.printstring()"
   ]
  },
  {
   "cell_type": "markdown",
   "metadata": {},
   "source": [
    "### Q4. Why self is used in OOPs?"
   ]
  },
  {
   "cell_type": "markdown",
   "metadata": {},
   "source": [
    "self - self is used to indicate class that a function or a variable, it belongs to this class. It works as a pointer which points methods to the class."
   ]
  },
  {
   "cell_type": "markdown",
   "metadata": {},
   "source": [
    "### Q5. What is inheritance? Give an example for each type of inheritance."
   ]
  },
  {
   "cell_type": "markdown",
   "metadata": {},
   "source": [
    "Inheritance : inheritance is inheriting the proerties of other classes. The class which inherit the  properties of the class is caled  a derived class and the class whose properties is inherited is called a base class."
   ]
  },
  {
   "cell_type": "markdown",
   "metadata": {},
   "source": [
    "it enables code resuability."
   ]
  },
  {
   "cell_type": "markdown",
   "metadata": {},
   "source": [
    "There are 5 types of inheritance in python:\n",
    "    1. Single\n",
    "    2. Multiple\n",
    "    3. Multilevel\n",
    "    4. Heirarchial\n",
    "    5. Hybrid"
   ]
  },
  {
   "cell_type": "code",
   "execution_count": 7,
   "metadata": {},
   "outputs": [],
   "source": [
    "#Single inheritance\n",
    "# class inherit from only one class\n",
    "class base:\n",
    "    \n",
    "    def printf(self):\n",
    "        return \"This is from class base\"\n",
    "        \n",
    "#inheriting class\n",
    "class derived( base):\n",
    "    \n",
    "    def inhe(self):\n",
    "        pass"
   ]
  },
  {
   "cell_type": "code",
   "execution_count": 8,
   "metadata": {},
   "outputs": [],
   "source": [
    "# callling the function of class base from tyhe object of class derived\n",
    "der_obj = derived"
   ]
  },
  {
   "cell_type": "code",
   "execution_count": 9,
   "metadata": {},
   "outputs": [
    {
     "data": {
      "text/plain": [
       "'This is from class base'"
      ]
     },
     "execution_count": 9,
     "metadata": {},
     "output_type": "execute_result"
    }
   ],
   "source": [
    "der_obj.printf(1)"
   ]
  },
  {
   "cell_type": "code",
   "execution_count": 10,
   "metadata": {},
   "outputs": [],
   "source": [
    "# Multilevel inheritance\n",
    "# one classs inheriting form a class which itself is inheriting form another class\n",
    "class base1:\n",
    "    def func1(self):\n",
    "        return \"Base 1\"\n",
    "class base2 (base1):\n",
    "    def func2(self):\n",
    "        return \"Base 2\"\n",
    "class inherited (base2):\n",
    "    def func3(self):\n",
    "        pass"
   ]
  },
  {
   "cell_type": "code",
   "execution_count": 11,
   "metadata": {},
   "outputs": [],
   "source": [
    "#making object of class inherited\n",
    "inhe = inherited"
   ]
  },
  {
   "cell_type": "code",
   "execution_count": 13,
   "metadata": {},
   "outputs": [
    {
     "data": {
      "text/plain": [
       "'Base 1'"
      ]
     },
     "execution_count": 13,
     "metadata": {},
     "output_type": "execute_result"
    }
   ],
   "source": [
    "inhe.func1(1)"
   ]
  },
  {
   "cell_type": "code",
   "execution_count": 14,
   "metadata": {},
   "outputs": [
    {
     "data": {
      "text/plain": [
       "'Base 2'"
      ]
     },
     "execution_count": 14,
     "metadata": {},
     "output_type": "execute_result"
    }
   ],
   "source": [
    "inhe.func2(1)"
   ]
  },
  {
   "cell_type": "code",
   "execution_count": 15,
   "metadata": {},
   "outputs": [],
   "source": [
    "#multiple Inheritance\n",
    "# one class inheriting from multiple classes\n",
    "class one:\n",
    "    def func1():\n",
    "        return \"One\"\n",
    "class two:\n",
    "    def func2():\n",
    "        return \"Tow\"\n",
    "class three(one, two):\n",
    "    pass"
   ]
  },
  {
   "cell_type": "code",
   "execution_count": 16,
   "metadata": {},
   "outputs": [],
   "source": [
    "#declaring the object of class three\n",
    "thr = three"
   ]
  },
  {
   "cell_type": "code",
   "execution_count": 17,
   "metadata": {},
   "outputs": [
    {
     "data": {
      "text/plain": [
       "'One'"
      ]
     },
     "execution_count": 17,
     "metadata": {},
     "output_type": "execute_result"
    }
   ],
   "source": [
    "thr.func1()"
   ]
  },
  {
   "cell_type": "code",
   "execution_count": 18,
   "metadata": {},
   "outputs": [
    {
     "data": {
      "text/plain": [
       "'Tow'"
      ]
     },
     "execution_count": 18,
     "metadata": {},
     "output_type": "execute_result"
    }
   ],
   "source": [
    "thr.func2()"
   ]
  },
  {
   "cell_type": "markdown",
   "metadata": {},
   "source": [
    "concluded"
   ]
  }
 ],
 "metadata": {
  "kernelspec": {
   "display_name": "Python 3",
   "language": "python",
   "name": "python3"
  },
  "language_info": {
   "codemirror_mode": {
    "name": "ipython",
    "version": 3
   },
   "file_extension": ".py",
   "mimetype": "text/x-python",
   "name": "python",
   "nbconvert_exporter": "python",
   "pygments_lexer": "ipython3",
   "version": "3.8.3"
  }
 },
 "nbformat": 4,
 "nbformat_minor": 4
}
