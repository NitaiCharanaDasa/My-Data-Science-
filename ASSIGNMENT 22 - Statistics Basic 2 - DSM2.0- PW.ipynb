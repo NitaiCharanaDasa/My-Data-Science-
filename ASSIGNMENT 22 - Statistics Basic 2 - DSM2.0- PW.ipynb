{
 "cells": [
  {
   "cell_type": "markdown",
   "metadata": {},
   "source": [
    "**Q1. What are the three measures of central tendency?**"
   ]
  },
  {
   "cell_type": "markdown",
   "metadata": {},
   "source": [
    "Measures of Central Tendency:\n",
    "\n",
    "Mean:\n",
    "\n",
    "The mean is the average of a set of data points. It's calculated by summing up all the values and dividing by the total number of observations.\n",
    "\n",
    "Median:\n",
    "\n",
    "The median is the middle value when the data is sorted in ascending order. If there is an even number of observations, it's the average of the two middle values.\n",
    "\n",
    "Mode:\n",
    "\n",
    "The mode is the value that occurs most frequently in a dataset.\n"
   ]
  },
  {
   "cell_type": "markdown",
   "metadata": {},
   "source": [
    "**Q2. What is the difference between the mean, median, and mode? How are they used to measure the\n",
    "central tendency of a dataset?**"
   ]
  },
  {
   "cell_type": "markdown",
   "metadata": {},
   "source": [
    "Measures of Central Tendency:\n",
    "\n",
    "Mean:\n",
    "\n",
    "The mean is the average of a set of data points. It's calculated by summing up all the values and dividing by the total number of observations.\n",
    "\n",
    "Median:\n",
    "\n",
    "The median is the middle value when the data is sorted in ascending order. If there is an even number of observations, it's the average of the two middle values.\n",
    "\n",
    "Mode:\n",
    "\n",
    "The mode is the value that occurs most frequently in a dataset.\n"
   ]
  },
  {
   "cell_type": "code",
   "execution_count": 14,
   "metadata": {},
   "outputs": [],
   "source": [
    "import pandas as pd\n",
    "import numpy as np"
   ]
  },
  {
   "cell_type": "markdown",
   "metadata": {},
   "source": [
    "**Q3. Measure the three measures of central tendency for the given height data:**\n",
    "\n",
    " [178,177,176,177,178.2,178,175,179,180,175,178.9,176.2,177,172.5,178,176.5]"
   ]
  },
  {
   "cell_type": "code",
   "execution_count": 3,
   "metadata": {},
   "outputs": [],
   "source": [
    "data1= [178,177,176,177,178.2,178,175,179,180,175,178.9,176.2,177,172.5,178,176.5]"
   ]
  },
  {
   "cell_type": "code",
   "execution_count": 5,
   "metadata": {},
   "outputs": [],
   "source": [
    "l1=pd.Series(data1)"
   ]
  },
  {
   "cell_type": "code",
   "execution_count": 6,
   "metadata": {},
   "outputs": [
    {
     "data": {
      "text/plain": [
       "177.01875"
      ]
     },
     "execution_count": 6,
     "metadata": {},
     "output_type": "execute_result"
    }
   ],
   "source": [
    "l1.mean()"
   ]
  },
  {
   "cell_type": "code",
   "execution_count": 7,
   "metadata": {},
   "outputs": [
    {
     "data": {
      "text/plain": [
       "177.0"
      ]
     },
     "execution_count": 7,
     "metadata": {},
     "output_type": "execute_result"
    }
   ],
   "source": [
    "l1.median()"
   ]
  },
  {
   "cell_type": "markdown",
   "metadata": {},
   "source": [
    "**Q4. Find the standard deviation for the given data:**\n",
    "\n",
    "[178,177,176,177,178.2,178,175,179,180,175,178.9,176.2,177,172.5,178,176.5]"
   ]
  },
  {
   "cell_type": "code",
   "execution_count": 9,
   "metadata": {},
   "outputs": [],
   "source": [
    "l2=pd.Series([178,177,176,177,178.2,178,175,179,180,175,178.9,176.2,177,172.5,178,176.5])"
   ]
  },
  {
   "cell_type": "code",
   "execution_count": 10,
   "metadata": {},
   "outputs": [
    {
     "data": {
      "text/plain": [
       "1.847238930584419"
      ]
     },
     "execution_count": 10,
     "metadata": {},
     "output_type": "execute_result"
    }
   ],
   "source": [
    "l2.std()"
   ]
  },
  {
   "cell_type": "markdown",
   "metadata": {},
   "source": [
    "**Q5. How are measures of dispersion such as range, variance, and standard deviation used to describe\n",
    "the spread of a dataset? Provide an example.**"
   ]
  },
  {
   "cell_type": "markdown",
   "metadata": {},
   "source": [
    "Measures of Variability or Dispersion:\n",
    "\n",
    "Range:\n",
    "\n",
    "The range is the difference between the highest and lowest values in a dataset.\n",
    "\n",
    "Variance:\n",
    "\n",
    "Variance measures the average squared deviation of each data point from the mean. It's a measure of the spread of the data.\n",
    "\n",
    "Standard Deviation:\n",
    "\n",
    "The standard deviation is the square root of the variance. It represents the average deviation of each data point from the mean in the same units as the original data."
   ]
  },
  {
   "cell_type": "markdown",
   "metadata": {},
   "source": [
    "**Q6. What is a Venn diagram?**"
   ]
  },
  {
   "cell_type": "markdown",
   "metadata": {},
   "source": [
    "Venn diagram is used to show the relation between two data sets like, intersection and union etc. The dataset is show by a circle and the intersection is showed by the common ared."
   ]
  },
  {
   "cell_type": "markdown",
   "metadata": {},
   "source": [
    "**Q7. For the two given sets A = (2,3,4,5,6,7) & B = (0,2,6,8,10). Find:**\n",
    "\n",
    "(i) \tA instersection B\n",
    "\n",
    "(ii)\tA ⋃ B"
   ]
  },
  {
   "cell_type": "code",
   "execution_count": 13,
   "metadata": {},
   "outputs": [],
   "source": [
    "A = pd.Series((2,3,4,5,6,7) )\n",
    "B = pd.Series((0,2,6,8,10))"
   ]
  },
  {
   "cell_type": "code",
   "execution_count": 17,
   "metadata": {},
   "outputs": [],
   "source": [
    "intersection=np.intersect1d(A,B)"
   ]
  },
  {
   "cell_type": "code",
   "execution_count": 18,
   "metadata": {},
   "outputs": [],
   "source": [
    "union=np.union1d(A,B)"
   ]
  },
  {
   "cell_type": "code",
   "execution_count": 19,
   "metadata": {},
   "outputs": [
    {
     "name": "stdout",
     "output_type": "stream",
     "text": [
      "The (1) Intersection of the set A and B is :\n",
      " [2 6] \n",
      " (2) The union of set A and B is :\n",
      " [ 0  2  3  4  5  6  7  8 10]\n"
     ]
    }
   ],
   "source": [
    "print(\"The (1) Intersection of the set A and B is :\\n\", intersection,\"\\n (2) The union of set A and B is :\\n\", union)"
   ]
  },
  {
   "cell_type": "markdown",
   "metadata": {},
   "source": [
    "**Q8. What do you understand about skewness in data?**"
   ]
  },
  {
   "cell_type": "markdown",
   "metadata": {},
   "source": [
    "Skewness is stastistical measure that describe the assymtric ofthe probability distribution of a random variable. In simpler terms, it tells abou the shape fo the data distribution."
   ]
  },
  {
   "cell_type": "markdown",
   "metadata": {},
   "source": [
    "**Q9. If a data is right skewed then what will be the position of median with respect to mean?**"
   ]
  },
  {
   "cell_type": "markdown",
   "metadata": {},
   "source": [
    "Mode<Median<Mean"
   ]
  },
  {
   "cell_type": "markdown",
   "metadata": {},
   "source": [
    "**Q10. Explain the difference between covariance and correlation. How are these measures used in\n",
    "statistical analysis?**"
   ]
  },
  {
   "cell_type": "markdown",
   "metadata": {},
   "source": [
    "Covariance and correlation are related measures that describe the relationship between two variables, but they have some important differences:\n",
    "\n",
    "1. **Definition**:\n",
    "\n",
    "   - **Covariance**: Covariance measures the extent to which two variables change together. It indicates the direction of the linear relationship between them. A positive covariance indicates a positive relationship (both variables increase or decrease together), while a negative covariance indicates an inverse relationship (one variable increases as the other decreases).\n",
    "   \n",
    "   - **Correlation**: Correlation is a standardized version of covariance. It not only measures the strength and direction of the linear relationship but also scales it to a range between -1 and 1. A correlation of 1 indicates a perfect positive linear relationship, -1 indicates a perfect negative linear relationship, and 0 indicates no linear relationship.\n",
    "\n",
    "2. **Units**:\n",
    "\n",
    "   - **Covariance**: The unit of covariance is the product of the units of the two variables being measured. This makes it challenging to interpret covariance values, especially when dealing with variables of different units.\n",
    "   \n",
    "   - **Correlation**: Correlation is unitless, which makes it easier to interpret. It gives a clear indication of the strength and direction of the linear relationship.\n",
    "\n",
    "3. **Range of Values**:\n",
    "\n",
    "   - **Covariance**: Covariance can take any value, including negative, positive, or zero. The magnitude of covariance is not standardized, which makes it hard to compare covariances directly between different pairs of variables.\n",
    "   \n",
    "   - **Correlation**: Correlation always falls between -1 and 1. This standardization allows for easier comparison of the strength of relationships between different pairs of variables.\n",
    "\n",
    "4. **Interpretation**:\n",
    "\n",
    "   - **Covariance**: Covariance doesn't provide a clear indication of the strength or direction of the relationship. It simply tells you if the variables tend to change together, but it doesn't quantify the extent.\n",
    "   \n",
    "   - **Correlation**: Correlation provides a clear and interpretable measure of the strength and direction of a linear relationship between two variables.\n",
    "\n",
    "In summary, while both covariance and correlation are measures of association between variables, correlation is generally preferred because it provides a more interpretable and standardized measure of the strength and direction of the relationship."
   ]
  },
  {
   "cell_type": "markdown",
   "metadata": {},
   "source": [
    "**Q11. What is the formula for calculating the sample mean? Provide an example calculation for a\n",
    "dataset**"
   ]
  },
  {
   "cell_type": "markdown",
   "metadata": {},
   "source": [
    "the formula for the  sample mean(x bar) is:\n",
    "xbar = (x1+x2+x3+.....+xn)/n\n",
    "\n",
    "where,\n",
    "\n",
    "xi represents each individual observation in sample.\n",
    "\n",
    "n is the total number of observations in the sample."
   ]
  },
  {
   "cell_type": "markdown",
   "metadata": {},
   "source": [
    "**Q12. For a normal distribution data what is the relationship between its measure of central tendency?**"
   ]
  },
  {
   "cell_type": "markdown",
   "metadata": {},
   "source": [
    "For a normal distribution, all three measures of central tendency(mean, median and mode) concide exactly."
   ]
  },
  {
   "cell_type": "markdown",
   "metadata": {},
   "source": [
    "**Q13. How is covariance different from correlation?**"
   ]
  },
  {
   "cell_type": "markdown",
   "metadata": {},
   "source": [
    "**Covariance** : Covariance measures the extent to which two variable change together. It indicates the direction of the linear relationship between them. A positive covariance indicates a positive relationship, while a negative covariance indicates an inverse relationship.\n",
    "\n",
    "**Corelation** : Corelation is a standardized version of covariance. It is not only measures the stength and direction of the linear relationship but also scales it to a renge between -1 and 1. A correlation of 1 indicates a perfecr positive linear relationship."
   ]
  },
  {
   "cell_type": "markdown",
   "metadata": {},
   "source": [
    "**Q14. How do outliers affect measures of central tendency and dispersion? Provide an example.**"
   ]
  },
  {
   "cell_type": "markdown",
   "metadata": {},
   "source": [
    "**Effect on Measures of Central Tendency**:\n",
    "\n",
    "1. **Mean**:\n",
    "   - The mean is highly sensitive to outliers. A single extreme value can pull the mean in its direction. For example, consider a dataset of incomes where most people earn around $50,000 per year, but one individual earns $5,000,000. The mean would be substantially higher than what most people actually earn.\n",
    "\n",
    "2. **Median**:\n",
    "   - The median is less affected by outliers because it is not influenced by extreme values. In the previous example, the median would remain close to $50,000 because it only considers the middle value.\n",
    "\n",
    "3. **Mode**:\n",
    "   - The mode is generally not affected by outliers, as it represents the most frequently occurring value. Even if there are a few extreme values, they won't impact the mode unless they become the most frequent value.\n",
    "\n",
    "**Effect on Measures of Dispersion**:\n",
    "\n",
    "1. **Range**:\n",
    "   - The range (the difference between the highest and lowest values) is heavily influenced by outliers. A single outlier can greatly increase the range.\n",
    "\n",
    "2. **Variance and Standard Deviation**:\n",
    "   - Both variance and standard deviation are affected by outliers. They measure the spread of data points from the mean. Outliers, especially if they are far from the rest of the data, can inflate these measures.\n",
    "\n",
    "**Example**:\n",
    "\n",
    "Let's say you have a dataset representing the ages of people in a town:\n",
    "\n",
    "\\[ 25, 27, 28, 29, 30, 32, 33, 34, 35, 36, 37, 38, 39, 40, 200 \\]\n",
    "\n",
    "- **Mean**:\n",
    "   - Without the outlier (200), the mean is around 33.6.\n",
    "   - With the outlier, the mean jumps to about 46.3.\n",
    "\n",
    "- **Median**:\n",
    "   - The median remains the same, which is 34.\n",
    "\n",
    "- **Mode**:\n",
    "   - The mode remains the same. There is no change.\n",
    "\n",
    "- **Range**:\n",
    "   - Without the outlier, the range is 15.\n",
    "   - With the outlier, the range increases to 175.\n",
    "\n",
    "- **Variance and Standard Deviation**:\n",
    "   - Without the outlier, the variance and standard deviation are relatively low.\n",
    "   - With the outlier, they increase significantly, reflecting the increased spread of data from the mean.\n",
    "\n",
    "This example illustrates how an outlier can have a pronounced impact on various measures of central tendency and dispersion."
   ]
  },
  {
   "cell_type": "code",
   "execution_count": null,
   "metadata": {},
   "outputs": [],
   "source": []
  }
 ],
 "metadata": {
  "kernelspec": {
   "display_name": "Python 3",
   "language": "python",
   "name": "python3"
  },
  "language_info": {
   "codemirror_mode": {
    "name": "ipython",
    "version": 3
   },
   "file_extension": ".py",
   "mimetype": "text/x-python",
   "name": "python",
   "nbconvert_exporter": "python",
   "pygments_lexer": "ipython3",
   "version": "3.8.3"
  }
 },
 "nbformat": 4,
 "nbformat_minor": 4
}
