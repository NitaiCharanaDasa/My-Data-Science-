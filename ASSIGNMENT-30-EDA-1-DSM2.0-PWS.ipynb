{
 "cells": [
  {
   "cell_type": "markdown",
   "metadata": {},
   "source": [
    "**QUESTIONS**"
   ]
  },
  {
   "cell_type": "markdown",
   "metadata": {},
   "source": [
    "Q1. What are the key features of the wine quality data set? Discuss the importance of each feature in\n",
    "predicting the quality of wine.\n",
    "\n",
    "Q2. How did you handle missing data in the wine quality data set during the feature engineering process?\n",
    "Discuss the advantages and disadvantages of different imputation techniques.\n",
    "\n",
    "Q3. What are the key factors that affect students' performance in exams? How would you go about\n",
    "analyzing these factors using statistical techniques?\n",
    "\n",
    "Q4. Describe the process of feature engineering in the context of the student performance data set. How\n",
    "did you select and transform the variables for your model?\n",
    "\n",
    "Q5. Load the wine quality data set and perform exploratory data analysis (EDA) to identify the distribution\n",
    "of each feature. Which feature(s) exhibit non-normality, and what transformations could be applied to\n",
    "these features to improve normality?\n",
    "\n",
    "Q6. Using the wine quality data set, perform principal component analysis (PCA) to reduce the number of\n",
    "features. What is the minimum number of principal components required to explain 90% of the variance in\n",
    "the data?"
   ]
  },
  {
   "cell_type": "markdown",
   "metadata": {},
   "source": [
    "**ANSWERS**"
   ]
  },
  {
   "cell_type": "markdown",
   "metadata": {},
   "source": [
    "Q1: The key features of the wine quality dataset typically include various chemical and physical properties of the wines. Common features include acidity levels, residual sugar, alcohol content, pH, and more. Each feature contributes to the overall profile of the wine and can impact its quality. For instance, acidity levels influence taste, alcohol content affects the strength, and pH can impact the overall balance. Understanding these features is crucial for predicting and assessing the quality of the wine.\n",
    "\n",
    "Q2: Handling missing data in the wine quality dataset can involve techniques like mean imputation, median imputation, or more advanced methods such as predictive modeling. Mean imputation replaces missing values with the mean of the observed values, while median imputation uses the median. Advantages include simplicity and preserving sample size, but disadvantages include potential bias. More advanced techniques consider relationships between variables but may be computationally expensive.\n",
    "\n",
    "Q3: Factors affecting students' performance can include study habits, socioeconomic status, attendance, and prior academic performance. Analyzing these factors involves statistical techniques such as regression analysis to identify correlations, analysis of variance (ANOVA) for group comparisons, and machine learning models for predictive analytics.\n",
    "\n",
    "Q4: Feature engineering in the student performance dataset involves selecting relevant variables and transforming them to improve model performance. This may include creating new features, handling missing data, and encoding categorical variables. Selection is based on domain knowledge, correlation analysis, and feature importance from models.\n",
    "\n",
    "Q5: Exploratory Data Analysis (EDA) on the wine quality dataset involves visualizing and summarizing the distributions of each feature. Features like residual sugar or alcohol content may exhibit non-normality. Transformations like log transformation or Box-Cox transformation can be applied to make these features more normally distributed.\n",
    "\n",
    "Q6: Principal Component Analysis (PCA) is used to reduce the dimensionality of the wine quality dataset. Performing PCA on the features helps identify the principal components that capture the most variance. The minimum number of principal components required to explain 90% of the variance can be determined by examining the cumulative explained variance plot. This plot shows the contribution of each principal component to the overall variance, allowing you to select a sufficient number of components to meet the desired explained variance threshold."
   ]
  }
 ],
 "metadata": {
  "kernelspec": {
   "display_name": "Python 3",
   "language": "python",
   "name": "python3"
  },
  "language_info": {
   "codemirror_mode": {
    "name": "ipython",
    "version": 3
   },
   "file_extension": ".py",
   "mimetype": "text/x-python",
   "name": "python",
   "nbconvert_exporter": "python",
   "pygments_lexer": "ipython3",
   "version": "3.8.3"
  }
 },
 "nbformat": 4,
 "nbformat_minor": 4
}
