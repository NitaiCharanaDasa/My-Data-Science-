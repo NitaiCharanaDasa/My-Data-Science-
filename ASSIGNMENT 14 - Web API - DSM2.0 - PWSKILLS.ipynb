{
 "cells": [
  {
   "cell_type": "markdown",
   "metadata": {},
   "source": [
    "# ASSIGNMENT 14 - Web API - DSM2.0 - PWSKILLS"
   ]
  },
  {
   "cell_type": "markdown",
   "metadata": {},
   "source": [
    "### Q1. What is an API? Give an example, where an API is used in real life."
   ]
  },
  {
   "cell_type": "markdown",
   "metadata": {},
   "source": [
    "An API is a communication interface that allows two separate software components to share data. An API operates as a bridge between internal and external software operations, allowing for a fluid interchange of data that frequently passes undetected by the end-user.\n",
    "The well-known API example usage is the \"log in with Facebook/Twitter/Google/GitHub\" capability seen on many websites. It's quite useful, but have you ever pondered how it works? Rather than entering into users' social media accounts (which would be a severe security risk), applications with this capability use the APIs of these platforms to authenticate the user with each login."
   ]
  },
  {
   "cell_type": "markdown",
   "metadata": {},
   "source": [
    "### Q2. Give advantages and disadvantages of using API."
   ]
  },
  {
   "cell_type": "markdown",
   "metadata": {},
   "source": [
    "Using an API gateway can bring many benefits for your API development, such as improved user experience by providing a consistent and seamless interface, increased security through centralized and standardized measures, enhanced performance by optimizing and caching the data flow, and easier maintenance by abstracting and decoupling clients from services.\n",
    "\n",
    "Using an API gateway can provide several advantages, but there are also some drawbacks and challenges. For instance, you may experience increased complexity and overhead of your system, as well as higher costs and fees for the usage and maintenance of the service."
   ]
  },
  {
   "cell_type": "markdown",
   "metadata": {},
   "source": [
    "### Q3. What is a Web API? Differentiate between API and Web API."
   ]
  },
  {
   "cell_type": "markdown",
   "metadata": {},
   "source": [
    "Web services require SOAP and XML to transfer data over a network, while APIs can use any protocols or design patterns.\n",
    "APIs allow applications to communicate, while web services allow machines to communicate.\n",
    "Web Services requires a network connection while APIs may or may not require a network for their operability.\n",
    "Web services require SOAP and XML, which are no longer the most popular standard.\n",
    "APIs are more efficient, with RESTful web services offering a more light-weight architecture web services are heavy.\n",
    "Web services only support HTTP as a backbone, while APIs are more flexible."
   ]
  },
  {
   "cell_type": "markdown",
   "metadata": {},
   "source": [
    "### Q4. Explain REST and SOAP Architecture. Mention shortcomings of SOAP."
   ]
  },
  {
   "cell_type": "markdown",
   "metadata": {},
   "source": [
    "SOAP stands for Simple Object Access Protocol is a network platform used in a web service to exchange or communicate data between two different machines on a network. It uses the XML format of data to transfer messages over the HTTP protocol.\n",
    "\n",
    "REST stands for REpresentational State Transfer. It is an architectural style that provides standards between computer systems on a web service. It is a set of constraints used to create a lightweight, scalable, and maintainable web service that facilitates easy communication.\n",
    "\n",
    "The disadvantages of the SOAP protocols are:\n",
    "SOAP is used only XML format data in web service, whereas JSON and other lightweight formats are not supported by it.\n",
    "It is slow because it uses XML format, whereas the payload for a simple string message is large.\n",
    "There are no security features in the SOAP specification.\n",
    "There is no state reference for the remote object in the SOAP client."
   ]
  },
  {
   "cell_type": "markdown",
   "metadata": {},
   "source": [
    "### Q5. Differentiate between REST and SOAP"
   ]
  },
  {
   "cell_type": "markdown",
   "metadata": {},
   "source": [
    "SOAP provides the following advantages when compared to REST:\n",
    "•    Language, platform, and transport independent (REST requires use of HTTP)\n",
    "•    Works well in distributed enterprise environments (REST assumes direct point-to-point communication)\n",
    "•    Standardized\n",
    "•    Provides significant pre-build extensibility in the form of the WS* standards\n",
    "•    Built-in error handling\n",
    "•    Automation when used with certain language products\n",
    "\n",
    "REST is easier to use for the most part and is more flexible. It has the following advantages over SOAP:\n",
    "•    No expensive tools require to interact with the web service\n",
    "•    Smaller learning curve\n",
    "•    Efficient (SOAP uses XML for all messages, REST can use smaller message formats)\n",
    "•    Fast (no extensive processing required)\n",
    "•    Closer to other web technologies in design philosophy"
   ]
  }
 ],
 "metadata": {
  "kernelspec": {
   "display_name": "Python 3",
   "language": "python",
   "name": "python3"
  },
  "language_info": {
   "codemirror_mode": {
    "name": "ipython",
    "version": 3
   },
   "file_extension": ".py",
   "mimetype": "text/x-python",
   "name": "python",
   "nbconvert_exporter": "python",
   "pygments_lexer": "ipython3",
   "version": "3.8.3"
  }
 },
 "nbformat": 4,
 "nbformat_minor": 4
}
