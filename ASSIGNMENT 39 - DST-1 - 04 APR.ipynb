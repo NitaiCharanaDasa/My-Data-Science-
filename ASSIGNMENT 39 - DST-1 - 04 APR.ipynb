{
 "cells": [
  {
   "cell_type": "markdown",
   "metadata": {},
   "source": [
    "`QUESTIONS`\n",
    "Q1. Describe the decision tree classifier algorithm and how it works to make predictions.\n",
    "\n",
    "Q2. Provide a step-by-step explanation of the mathematical intuition behind decision tree classification.\n",
    "\n",
    "Q3. Explain how a decision tree classifier can be used to solve a binary classification problem.\n",
    "\n",
    "Q4. Discuss the geometric intuition behind decision tree classification and how it can be used to make\n",
    "predictions.\n",
    "\n",
    "Q5. Define the confusion matrix and describe how it can be used to evaluate the performance of a\n",
    "classification model.\n",
    "\n",
    "Q6. Provide an example of a confusion matrix and explain how precision, recall, and F1 score can be\n",
    "calculated from it.\n",
    "\n",
    "Q7. Discuss the importance of choosing an appropriate evaluation metric for a classification problem and\n",
    "explain how this can be done.\n",
    "\n",
    "Q8. Provide an example of a classification problem where precision is the most important metric, and\n",
    "explain why.\n",
    "\n",
    "Q9. Provide an example of a classification problem where recall is the most important metric, and explain\n",
    "why."
   ]
  },
  {
   "cell_type": "markdown",
   "metadata": {},
   "source": [
    "`ANSWERS` Q1. The decision tree classifier is a supervised machine learning algorithm used for both classification and regression tasks. It works by recursively partitioning the dataset based on features, creating a tree-like structure. Each node in the tree represents a decision based on a feature, and the leaves contain the predicted outcome.\n",
    "\n",
    "Q2. Mathematically, decision trees split the data into subsets at each node based on a feature and threshold. The splits are determined by minimizing impurity measures like Gini impurity or entropy. This process is repeated recursively, creating a binary tree where each leaf corresponds to a class label or regression value.\n",
    "\n",
    "Q3. In binary classification, a decision tree separates the dataset into two classes. At each node, a decision is made based on a feature, leading to a tree structure. The leaves represent the predicted class labels.\n",
    "\n",
    "Q4. Geometrically, decision tree splits create hyperplanes that divide the feature space. Each decision corresponds to a partition, forming regions with distinct class labels. Predictions are made based on the region in which a data point falls.\n",
    "\n",
    "Q5. The confusion matrix is a table that evaluates the performance of a classification model. It includes metrics like true positives, true negatives, false positives, and false negatives.\n",
    "\n",
    "Q6. Example Confusion Matrix:\n",
    "```\n",
    "             Actual Class 1   Actual Class 2\n",
    "Predicted Class 1      TP              FP\n",
    "Predicted Class 2      FN              TN\n",
    "```\n",
    "Precision = TP / (TP + FP), Recall = TP / (TP + FN), F1 Score = 2 * (Precision * Recall) / (Precision + Recall)\n",
    "\n",
    "Q7. Choosing an appropriate evaluation metric depends on the problem. Accuracy may be suitable for balanced datasets, but for imbalanced data, precision, recall, or F1 score might be more informative.\n",
    "\n",
    "Q8. Example: In a spam email detection system, precision is crucial because we want to minimize false positives, avoiding marking non-spam emails as spam.\n",
    "\n",
    "Q9. Example: In a medical diagnosis system, recall is important because we aim to minimize false negatives, ensuring that actual cases of a disease are not missed, even if it results in some false positives."
   ]
  },
  {
   "cell_type": "code",
   "execution_count": null,
   "metadata": {},
   "outputs": [],
   "source": []
  }
 ],
 "metadata": {
  "kernelspec": {
   "display_name": "Python 3",
   "language": "python",
   "name": "python3"
  },
  "language_info": {
   "codemirror_mode": {
    "name": "ipython",
    "version": 3
   },
   "file_extension": ".py",
   "mimetype": "text/x-python",
   "name": "python",
   "nbconvert_exporter": "python",
   "pygments_lexer": "ipython3",
   "version": "3.8.3"
  }
 },
 "nbformat": 4,
 "nbformat_minor": 4
}
