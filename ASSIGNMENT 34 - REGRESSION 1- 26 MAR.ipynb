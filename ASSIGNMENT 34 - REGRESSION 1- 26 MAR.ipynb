{
 "cells": [
  {
   "cell_type": "markdown",
   "metadata": {},
   "source": [
    "`QUESTIONS`\n",
    "Q1. Explain the difference between simple linear regression and multiple linear regression. Provide an\n",
    "example of each.\n",
    "\n",
    "Q2. Discuss the assumptions of linear regression. How can you check whether these assumptions hold in\n",
    "a given dataset?\n",
    "\n",
    "Q3. How do you interpret the slope and intercept in a linear regression model? Provide an example using\n",
    "a real-world scenario.\n",
    "\n",
    "Q4. Explain the concept of gradient descent. How is it used in machine learning?\n",
    "\n",
    "Q5. Describe the multiple linear regression model. How does it differ from simple linear regression?\n",
    "\n",
    "Q6. Explain the concept of multicollinearity in multiple linear regression. How can you detect and\n",
    "address this issue?\n",
    "\n",
    "Q7. Describe the polynomial regression model. How is it different from linear regression?\n",
    "\n",
    "Q8. What are the advantages and disadvantages of polynomial regression compared to linear\n",
    "regression? In what situations would you prefer to use polynomial regression?"
   ]
  },
  {
   "cell_type": "markdown",
   "metadata": {},
   "source": [
    "`ANSWERS`\n",
    "Q1: Simple linear regression involves predicting a dependent variable based on a single independent variable, while multiple linear regression involves predicting the dependent variable using multiple independent variables. Example:\n",
    "   - Simple Linear Regression: Predicting house price based on square footage.\n",
    "   - Multiple Linear Regression: Predicting house price based on square footage, number of bedrooms, and neighborhood.\n",
    "\n",
    "Q2: Linear regression assumptions include linearity, independence, homoscedasticity, and normality of errors. You can check these assumptions through visual inspection of residual plots, correlation matrices, and normality tests.\n",
    "\n",
    "Q3: In a linear regression model, the slope represents the change in the dependent variable for a one-unit change in the independent variable, and the intercept is the predicted value when the independent variable is zero. Example: In a salary prediction model, the slope might represent the increase in salary for each additional year of experience.\n",
    "\n",
    "Q4: Gradient descent is an optimization algorithm used to minimize the cost function in machine learning models. It iteratively adjusts the model parameters to find the minimum of the cost function, effectively optimizing the model.\n",
    "\n",
    "Q5: Multiple linear regression involves predicting a dependent variable using two or more independent variables. It extends the simple linear regression model by incorporating additional predictors.\n",
    "\n",
    "Q6: Multicollinearity occurs when independent variables in a multiple linear regression model are highly correlated. Detection methods include correlation matrices and variance inflation factor (VIF). To address multicollinearity, you can consider removing correlated variables or using regularization techniques.\n",
    "\n",
    "Q7: Polynomial regression involves using polynomial equations to model the relationship between the dependent and independent variables. It differs from linear regression by allowing for non-linear relationships.\n",
    "\n",
    "Q8: Advantages of polynomial regression include capturing non-linear patterns, but it may lead to overfitting and increased complexity. Disadvantages include sensitivity to outliers. Use polynomial regression when there's evidence of a non-linear relationship and the benefits outweigh the risks, such as in cases of complex data patterns."
   ]
  },
  {
   "cell_type": "code",
   "execution_count": null,
   "metadata": {},
   "outputs": [],
   "source": []
  }
 ],
 "metadata": {
  "kernelspec": {
   "display_name": "Python 3",
   "language": "python",
   "name": "python3"
  },
  "language_info": {
   "codemirror_mode": {
    "name": "ipython",
    "version": 3
   },
   "file_extension": ".py",
   "mimetype": "text/x-python",
   "name": "python",
   "nbconvert_exporter": "python",
   "pygments_lexer": "ipython3",
   "version": "3.8.3"
  }
 },
 "nbformat": 4,
 "nbformat_minor": 4
}
