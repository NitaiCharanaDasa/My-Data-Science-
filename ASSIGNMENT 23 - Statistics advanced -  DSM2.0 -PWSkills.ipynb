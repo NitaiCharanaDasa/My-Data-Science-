{
 "cells": [
  {
   "cell_type": "markdown",
   "metadata": {},
   "source": [
    "**Q1. What is the Probability density function?**"
   ]
  },
  {
   "cell_type": "markdown",
   "metadata": {},
   "source": [
    "**PDF**: PDF is a mathematical fucntion that describes the likelihood of a continous renadom variable taking on a prticular valuse within a given range. The key featuer of the PDF are:\n",
    "1. The function is non negative for all possible values fo the random varible.\n",
    "2. The area under the curve over the entire renage of possible values equal to t."
   ]
  },
  {
   "cell_type": "markdown",
   "metadata": {},
   "source": [
    "**Q2. What are the types of Probability distribution?**"
   ]
  },
  {
   "cell_type": "markdown",
   "metadata": {},
   "source": [
    "1. **Uniform Distribution**: In a uniform distribution, all outcomes are equally likely. It's often\n",
    "visualized as a flat, horizontal line. For example, when rolling a fair six-sided die, each number\n",
    "has an equal chance of occurring.\n",
    "2. **Normal Distribution (Gaussian Distribution)**: This is one of the most important distributions\n",
    "in statistics. It forms a bell-shaped curve and is characterized by its mean and standard\n",
    "deviation. Many natural phenomena, like heights or IQ scores, tend to follow a normal\n",
    "distribution.\n",
    "3. **Binomial Distribution**: This distribution is used to model the number of successes in a\n",
    "fixed number of Bernoulli trials (experiments with two possible outcomes, usually labeled as\n",
    "success or failure), given a constant probability of success.\n",
    "4. **Poisson Distribution**: This is used to model the number of events occurring in a fixed\n",
    "interval of time or space. It's often applied to situations like the number of phone calls received\n",
    "by a call center in a given hour.\n",
    "5. **Exponential Distribution**: This distribution models the time until a certain event occurs. For\n",
    "example, it might be used to model the time until a light bulb burns out.\n",
    "7. **Bernoulli Distribution**: This is the simplest type of distribution, representing a single trial\n",
    "with two possible outcomes (usually success or failure).\n",
    "9. **Chi-Squared Distribution**: This distribution arises in the context of hypothesis testing and\n",
    "confidence intervals, particularly in cases involving sample variances.\n"
   ]
  },
  {
   "cell_type": "markdown",
   "metadata": {},
   "source": [
    "**Q3. Write a Python function to calculate the probability density function of a normal distribution with\n",
    "given mean and standard deviation at a given point.**"
   ]
  },
  {
   "cell_type": "code",
   "execution_count": 1,
   "metadata": {},
   "outputs": [],
   "source": [
    "import scipy.stats as stats\n"
   ]
  },
  {
   "cell_type": "code",
   "execution_count": 2,
   "metadata": {},
   "outputs": [],
   "source": [
    "def pdf(x, mu, sigma):\n",
    "    pdf=stats.norm.pdf(x,mu,sigma)\n",
    "    return pdf"
   ]
  },
  {
   "cell_type": "code",
   "execution_count": 3,
   "metadata": {},
   "outputs": [],
   "source": [
    "mean=0\n",
    "std=1\n",
    "x=1.5"
   ]
  },
  {
   "cell_type": "code",
   "execution_count": 4,
   "metadata": {},
   "outputs": [
    {
     "data": {
      "text/plain": [
       "0.12951759566589174"
      ]
     },
     "execution_count": 4,
     "metadata": {},
     "output_type": "execute_result"
    }
   ],
   "source": [
    "pdf(x,mean,std)"
   ]
  },
  {
   "cell_type": "markdown",
   "metadata": {},
   "source": [
    "**Q4. What are the properties of Binomial distribution? Give two examples of events where binomial\n",
    "distribution can be applied.**"
   ]
  },
  {
   "cell_type": "markdown",
   "metadata": {},
   "source": [
    "The binomial distribution is a discrete probability distribution that models the number of\n",
    "successes in a fixed number of independent Bernoulli trials (experiments with two possible\n",
    "outcomes, usually labeled as success or failure), given a constant probability of success.\n",
    "**Properties of the Binomial Distribution:**\n",
    "1. **Fixed Number of Trials (n)**: The number of trials is fixed in advance.\n",
    "2. **Independent Trials**: Each trial is independent of the others.\n",
    "3. **Two Possible Outcomes**: Each trial results in one of two outcomes, usually labeled as\n",
    "success (S) or failure (F).\n",
    "4. **Constant Probability of Success (p)**: The probability of success (p) is the same for each\n",
    "trial.\n",
    "\n",
    "**Examples:**\n",
    "1. **Coin Flips**: Consider flipping a fair coin (where the probability of getting a head is \\(p =\n",
    "0.5\\)). If you flip the coin 5 times, you can model the number of heads using a binomial\n",
    "distribution with parameters \\(n = 5\\) and \\(p = 0.5\\).\n",
    "2. **Manufacturing Defects**: In a factory, a machine produces items, and each item has a 5%\n",
    "chance of being defective. If the machine produces 100 items, you can model the number of\n",
    "defective items using a binomial distribution with parameters \\(n = 100\\) and \\(p = 0.05\\).\n"
   ]
  },
  {
   "cell_type": "markdown",
   "metadata": {},
   "source": [
    "**Q5. Generate a random sample of size 1000 from a binomial distribution with probability of success 0.4\n",
    "and plot a histogram of the results using matplotlib.**"
   ]
  },
  {
   "cell_type": "code",
   "execution_count": 5,
   "metadata": {},
   "outputs": [],
   "source": [
    "import numpy as np\n",
    "import matplotlib.pyplot as plt"
   ]
  },
  {
   "cell_type": "code",
   "execution_count": 6,
   "metadata": {},
   "outputs": [
    {
     "data": {
      "image/png": "[encoded data removed]",
      "text/plain": [
       "<Figure size 432x288 with 1 Axes>"
      ]
     },
     "metadata": {
      "needs_background": "light"
     },
     "output_type": "display_data"
    }
   ],
   "source": [
    "probalitly_of_sucess=0.4\n",
    "sample_size=1000\n",
    "sample=np.random.binomial(1,probalitly_of_sucess,size=sample_size)\n",
    "plt.hist(sample, bins=[-0.5,0.5,1.5], edgecolor='black', color='red')\n",
    "plt.xlabel('Outcome')\n",
    "plt.ylabel('Freq')\n",
    "plt.title('Binomial')\n",
    "plt.xticks([0,1], ['fail', \"Succ\"])\n",
    "plt.show()"
   ]
  },
  {
   "cell_type": "markdown",
   "metadata": {},
   "source": [
    "**Q6. Write a Python function to calculate the cumulative distribution function of a Poisson distribution\n",
    "with given mean at a given point.**"
   ]
  },
  {
   "cell_type": "code",
   "execution_count": 7,
   "metadata": {},
   "outputs": [],
   "source": [
    "def cdf(k,mu):\n",
    "    cdf=stats.poisson.cdf(k,mu)\n",
    "    return cdf\n"
   ]
  },
  {
   "cell_type": "code",
   "execution_count": 8,
   "metadata": {},
   "outputs": [],
   "source": [
    "mean=3.5\n",
    "k=3"
   ]
  },
  {
   "cell_type": "code",
   "execution_count": 9,
   "metadata": {},
   "outputs": [
    {
     "data": {
      "text/plain": [
       "0.536632667900785"
      ]
     },
     "execution_count": 9,
     "metadata": {},
     "output_type": "execute_result"
    }
   ],
   "source": [
    "cdf(k,mean)"
   ]
  },
  {
   "cell_type": "markdown",
   "metadata": {},
   "source": [
    "**Q7. How Binomial distribution different from Poisson distribution?**"
   ]
  },
  {
   "cell_type": "markdown",
   "metadata": {},
   "source": [
    "1. **Nature of Events**:\n",
    "\n",
    "**Binomial Distribution**: It is used to model the number of successes in a fixed number of\n",
    "independent Bernoulli trials, where each trial has two possible outcomes (success or failure).\n",
    "\n",
    "**Poisson Distribution**: It models the number of events occurring in a fixed interval of time\n",
    "or space, given a known average rate of occurrence.\n",
    "2. **Number of Trials**:\n",
    "\n",
    "**Binomial Distribution**: It requires a fixed number of trials (n) to be specified in advance.\n",
    "\n",
    "**Poisson Distribution**: It does not require a fixed number of trials. It is concerned with the\n",
    "number of events occurring in a continuous or indefinitely large number of trials.\n",
    "3. **Assumptions**:\n",
    "\n",
    "**Binomial Distribution**: It assumes a fixed number of trials, independence of trials, and a\n",
    "constant probability of success for each trial.\n",
    "\n",
    "**Poisson Distribution**: It assumes events occur randomly and independently, and the\n",
    "average rate of occurrence is constant across time or space.\n",
    "4. **Continuous vs. Discrete**:\n",
    "\n",
    "**Binomial Distribution**: It deals with discrete random variables, meaning it applies to\n",
    "situations where outcomes can only be whole numbers (e.g., 0, 1, 2, ...).\n",
    "\n",
    "**Poisson Distribution**: It also deals with discrete random variables, but it is often used in\n",
    "situations where the outcomes can be larger and where the number of events is rare.\n",
    "5. **Parameters**:\n",
    "\n",
    "**Binomial Distribution**: It is defined by two parameters: the number of trials (n) and the\n",
    "probability of success in each trial (p).\n",
    "\n",
    "**Poisson Distribution**: It is defined by one parameter, the average rate of occurrence (λ)."
   ]
  },
  {
   "cell_type": "markdown",
   "metadata": {},
   "source": [
    "**Q8. Generate a random sample of size 1000 from a Poisson distribution with mean 5 and calculate the\n",
    "sample mean and variance.**"
   ]
  },
  {
   "cell_type": "code",
   "execution_count": 10,
   "metadata": {},
   "outputs": [],
   "source": [
    "mean=5\n",
    "samplesize=1000\n",
    "sample1=np.random.poisson(mean, size=samplesize)\n"
   ]
  },
  {
   "cell_type": "code",
   "execution_count": 12,
   "metadata": {},
   "outputs": [
    {
     "name": "stdout",
     "output_type": "stream",
     "text": [
      "The mean is 5.027  and the variance is  0.24207900000000007\n"
     ]
    }
   ],
   "source": [
    "mean=np.mean(sample1)\n",
    "variance=np.var(sample)\n",
    "print(\"The mean is\", mean, \" and the variance is \", variance)"
   ]
  },
  {
   "cell_type": "markdown",
   "metadata": {},
   "source": [
    "**Q9. How mean and variance are related in Binomial distribution and Poisson distribution?**"
   ]
  },
  {
   "cell_type": "markdown",
   "metadata": {},
   "source": [
    "**Binomial Distribution:**\n",
    "\n",
    "In the binomial distribution, the variance increases with the number of trials (\\(n\\)) and is also\n",
    "influenced by the probability of success (\\(p\\)). As the number of trials increases, the spread of\n",
    "possible outcomes widens, which increases the variance.\n",
    "**Poisson Distribution:**\n",
    "For a Poisson distribution with parameter \\(\\lambda\\) (average rate of occurrence), both the\n",
    "mean and variance are equal and are given by:\n",
    "- Mean (\\(\\mu\\)) = Variance (\\(\\sigma^2\\)) = \\(\\lambda\\)\n",
    "In the Poisson distribution, the mean and variance are always equal. This is a characteristic\n",
    "property of the Poisson distribution and signifies that the variability of the distribution is\n",
    "determined solely by the average rate of occurrence.\n",
    "**Comparison:**\n",
    "In summary, for a Poisson distribution, the mean and variance are always equal and both are\n",
    "determined by the average rate of occurrence (\\(\\lambda\\)). In a binomial distribution, the mean\n",
    "and variance are related but are influenced by the number of trials (\\(n\\)) and the probability of\n",
    "success (\\(p\\)). As \\(n\\) increases, the variance increases, but in the Poisson distribution, the\n",
    "mean and variance remain equal regardless of \\(n\\) or \\(p\\).\n"
   ]
  },
  {
   "cell_type": "markdown",
   "metadata": {},
   "source": [
    "**Q10. In normal distribution with respect to mean position, where does the least frequent data appear?**"
   ]
  },
  {
   "cell_type": "markdown",
   "metadata": {},
   "source": [
    "In a normal distribution, which is symmetric and bell-shaped, the least frequent data points are\n",
    "located in the tails, farthest from the mean. This means that values that are significantly higher\n",
    "or lower than the mean are less likely to occur.\n",
    "Specifically:\n",
    "1. **Outliers**: Data points that are very far from the mean (in the tails of the distribution) are the\n",
    "least frequent. These are the extreme values that deviate substantially from the typical values in\n",
    "the dataset.\n",
    "2. **Low Probability Regions**: The tails of a normal distribution are associated with low\n",
    "probabilities. The further you move from the mean, the lower the probability of encountering a\n",
    "data point in that region.\n",
    "For example, in a standard normal distribution (with a mean of 0 and a standard deviation of 1),\n",
    "data points that are, say, 3 standard deviations away from the mean on either side are\n",
    "considered to be in the \"tails\" and are relatively rare.\n",
    "Remember, normal distributions are continuous, so technically, the probability of any single\n",
    "exact value occurring is zero. However, we still talk about probabilities in terms of intervals or\n",
    "ranges of values."
   ]
  },
  {
   "cell_type": "code",
   "execution_count": null,
   "metadata": {},
   "outputs": [],
   "source": []
  }
 ],
 "metadata": {
  "kernelspec": {
   "display_name": "Python 3",
   "language": "python",
   "name": "python3"
  },
  "language_info": {
   "codemirror_mode": {
    "name": "ipython",
    "version": 3
   },
   "file_extension": ".py",
   "mimetype": "text/x-python",
   "name": "python",
   "nbconvert_exporter": "python",
   "pygments_lexer": "ipython3",
   "version": "3.8.3"
  }
 },
 "nbformat": 4,
 "nbformat_minor": 4
}
