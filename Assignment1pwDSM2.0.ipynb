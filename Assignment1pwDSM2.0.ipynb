{
 "cells": [
  {
   "cell_type": "markdown",
   "metadata": {},
   "source": [
    "# Assignment 01 "
   ]
  },
  {
   "cell_type": "markdown",
   "metadata": {},
   "source": [
    "Q1. Create one variable containing following types of data  :\n",
    "1. string\n",
    "2. list\n",
    "3. float\n",
    "4. tuple"
   ]
  },
  {
   "cell_type": "code",
   "execution_count": 1,
   "metadata": {},
   "outputs": [],
   "source": [
    "stringvariable = \"String\"\n",
    "listvariable = [2,3,4,3.4]\n",
    "floatvariable = 2.5\n",
    "tuplevariable = (2,3,4,3.5)"
   ]
  },
  {
   "cell_type": "markdown",
   "metadata": {},
   "source": [
    "Q2. Given are some following variables containing data:\n",
    "1. var1 = ' '\n",
    "2. var2 = '[ DS, ML, Python ]'\n",
    "3. var3 = ['DS', 'ML', 'Python']\n",
    "4. var4 = 1"
   ]
  },
  {
   "cell_type": "code",
   "execution_count": 3,
   "metadata": {},
   "outputs": [
    {
     "data": {
      "text/plain": [
       "str"
      ]
     },
     "execution_count": 3,
     "metadata": {},
     "output_type": "execute_result"
    }
   ],
   "source": [
    "var1 = ' '\n",
    "\n",
    "type(var1)"
   ]
  },
  {
   "cell_type": "code",
   "execution_count": 4,
   "metadata": {},
   "outputs": [
    {
     "data": {
      "text/plain": [
       "str"
      ]
     },
     "execution_count": 4,
     "metadata": {},
     "output_type": "execute_result"
    }
   ],
   "source": [
    "var2 = '[ DS, ML, Python ]'\n",
    "type(var2)"
   ]
  },
  {
   "cell_type": "code",
   "execution_count": 5,
   "metadata": {},
   "outputs": [
    {
     "data": {
      "text/plain": [
       "list"
      ]
     },
     "execution_count": 5,
     "metadata": {},
     "output_type": "execute_result"
    }
   ],
   "source": [
    "var3 = ['DS', 'ML', 'Python']\n",
    "type(var3)"
   ]
  },
  {
   "cell_type": "code",
   "execution_count": 6,
   "metadata": {},
   "outputs": [
    {
     "data": {
      "text/plain": [
       "int"
      ]
     },
     "execution_count": 6,
     "metadata": {},
     "output_type": "execute_result"
    }
   ],
   "source": [
    "var4 = 1\n",
    "type(var4)"
   ]
  },
  {
   "cell_type": "markdown",
   "metadata": {},
   "source": [
    "Q3. Explain the use of the following operators using an example :\n",
    "1. /\n",
    "2. %\n",
    "3. //\n",
    "4. **"
   ]
  },
  {
   "cell_type": "code",
   "execution_count": 7,
   "metadata": {},
   "outputs": [
    {
     "data": {
      "text/plain": [
       "0.8"
      ]
     },
     "execution_count": 7,
     "metadata": {},
     "output_type": "execute_result"
    }
   ],
   "source": [
    "4/5"
   ]
  },
  {
   "cell_type": "code",
   "execution_count": 8,
   "metadata": {},
   "outputs": [
    {
     "data": {
      "text/plain": [
       "4"
      ]
     },
     "execution_count": 8,
     "metadata": {},
     "output_type": "execute_result"
    }
   ],
   "source": [
    "4%5"
   ]
  },
  {
   "cell_type": "code",
   "execution_count": 9,
   "metadata": {},
   "outputs": [
    {
     "data": {
      "text/plain": [
       "0"
      ]
     },
     "execution_count": 9,
     "metadata": {},
     "output_type": "execute_result"
    }
   ],
   "source": [
    "4//5"
   ]
  },
  {
   "cell_type": "code",
   "execution_count": 10,
   "metadata": {},
   "outputs": [
    {
     "data": {
      "text/plain": [
       "1024"
      ]
     },
     "execution_count": 10,
     "metadata": {},
     "output_type": "execute_result"
    }
   ],
   "source": [
    "4**5"
   ]
  },
  {
   "cell_type": "markdown",
   "metadata": {},
   "source": [
    "Q4. Create a list of length 10 of your choice containing multiple types of the data. Using for loop print the elements and its datatype."
   ]
  },
  {
   "cell_type": "code",
   "execution_count": 12,
   "metadata": {},
   "outputs": [
    {
     "name": "stdout",
     "output_type": "stream",
     "text": [
      "The datatype of  2  is  <class 'int'>\n",
      "The datatype of  3  is  <class 'int'>\n",
      "The datatype of  4  is  <class 'int'>\n",
      "The datatype of  5  is  <class 'int'>\n",
      "The datatype of  6  is  <class 'int'>\n",
      "The datatype of  Agam  is  <class 'str'>\n",
      "The datatype of  2.3  is  <class 'float'>\n",
      "The datatype of  (3+3j)  is  <class 'complex'>\n"
     ]
    }
   ],
   "source": [
    "secondlist = [2,3,4,5,6,\"Agam\",2.3,3+3j]\n",
    "for i in secondlist:\n",
    "    print(\"The datatype of \", i, \" is \" , type(i))"
   ]
  },
  {
   "cell_type": "markdown",
   "metadata": {},
   "source": [
    "Q5. Using a while loop, verify if the number A is purely divisible by number B and if so then how many times it can be divisible."
   ]
  },
  {
   "cell_type": "code",
   "execution_count": 13,
   "metadata": {},
   "outputs": [
    {
     "name": "stdout",
     "output_type": "stream",
     "text": [
      "Enter the value of A  :3\n",
      "3  is divisible by 3\n"
     ]
    }
   ],
   "source": [
    "A = int(input(\"Enter the value of A  :\"))\n",
    "if A%3==0:\n",
    "    print(A, \" is divisible by 3\")"
   ]
  },
  {
   "cell_type": "markdown",
   "metadata": {},
   "source": [
    "Q6. Create a list containing 25 int type data. using for loop and if else condition print if the element is divisible by 3 or not. "
   ]
  },
  {
   "cell_type": "code",
   "execution_count": 14,
   "metadata": {},
   "outputs": [
    {
     "name": "stdout",
     "output_type": "stream",
     "text": [
      "0  is divisible by 3\n",
      "1  is not divisibel by 3\n",
      "2  is not divisibel by 3\n",
      "3  is divisible by 3\n",
      "4  is not divisibel by 3\n",
      "5  is not divisibel by 3\n",
      "6  is divisible by 3\n",
      "7  is not divisibel by 3\n",
      "8  is not divisibel by 3\n",
      "9  is divisible by 3\n",
      "10  is not divisibel by 3\n",
      "11  is not divisibel by 3\n",
      "12  is divisible by 3\n",
      "13  is not divisibel by 3\n",
      "14  is not divisibel by 3\n",
      "15  is divisible by 3\n",
      "16  is not divisibel by 3\n",
      "17  is not divisibel by 3\n",
      "18  is divisible by 3\n",
      "19  is not divisibel by 3\n",
      "20  is not divisibel by 3\n",
      "21  is divisible by 3\n",
      "22  is not divisibel by 3\n",
      "23  is not divisibel by 3\n",
      "24  is divisible by 3\n"
     ]
    }
   ],
   "source": [
    "thirdlist = list(range(25))\n",
    "for i in thirdlist:\n",
    "    if i%3==0:\n",
    "        print(i, \" is divisible by 3\")\n",
    "    else:\n",
    "        print(i, \" is not divisibel by 3\")"
   ]
  },
  {
   "cell_type": "markdown",
   "metadata": {},
   "source": [
    "Q7. what do you understand about mutable and immutable data types? give examples for both showing this property."
   ]
  },
  {
   "cell_type": "markdown",
   "metadata": {},
   "source": [
    "Answer : String is an immutable datatye because in string we cannot reassign the value of any data/character at any step index in a string, to change the string, we have to give it a new value. whereas, list is a mutable datatype, where we can reassign the value of any data at any step index."
   ]
  },
  {
   "cell_type": "code",
   "execution_count": 15,
   "metadata": {},
   "outputs": [
    {
     "ename": "TypeError",
     "evalue": "'str' object does not support item assignment",
     "output_type": "error",
     "traceback": [
      "\u001b[1;31m---------------------------------------------------------------------------\u001b[0m",
      "\u001b[1;31mTypeError\u001b[0m                                 Traceback (most recent call last)",
      "\u001b[1;32m<ipython-input-15-75a7153f4add>\u001b[0m in \u001b[0;36m<module>\u001b[1;34m\u001b[0m\n\u001b[0;32m      1\u001b[0m \u001b[0mstringvariable\u001b[0m  \u001b[1;33m=\u001b[0m \u001b[1;34m\"Immutable\"\u001b[0m\u001b[1;33m\u001b[0m\u001b[1;33m\u001b[0m\u001b[0m\n\u001b[1;32m----> 2\u001b[1;33m \u001b[0mstringvariable\u001b[0m\u001b[1;33m[\u001b[0m\u001b[1;36m1\u001b[0m\u001b[1;33m]\u001b[0m\u001b[1;33m=\u001b[0m\u001b[1;34m's'\u001b[0m\u001b[1;33m\u001b[0m\u001b[1;33m\u001b[0m\u001b[0m\n\u001b[0m",
      "\u001b[1;31mTypeError\u001b[0m: 'str' object does not support item assignment"
     ]
    }
   ],
   "source": [
    "stringvariable  = \"Immutable\"\n",
    "stringvariable[1]='s'"
   ]
  },
  {
   "cell_type": "code",
   "execution_count": 16,
   "metadata": {},
   "outputs": [],
   "source": [
    "listvariable = ['m', 'u','t','a','b','l','e']\n",
    "listvariable[0]='Is_very_m'"
   ]
  },
  {
   "cell_type": "code",
   "execution_count": 17,
   "metadata": {},
   "outputs": [
    {
     "name": "stdout",
     "output_type": "stream",
     "text": [
      "['Is_very_m', 'u', 't', 'a', 'b', 'l', 'e']\n"
     ]
    }
   ],
   "source": [
    "print(listvariable)"
   ]
  },
  {
   "cell_type": "code",
   "execution_count": null,
   "metadata": {},
   "outputs": [],
   "source": []
  }
 ],
 "metadata": {
  "kernelspec": {
   "display_name": "Python 3",
   "language": "python",
   "name": "python3"
  },
  "language_info": {
   "codemirror_mode": {
    "name": "ipython",
    "version": 3
   },
   "file_extension": ".py",
   "mimetype": "text/x-python",
   "name": "python",
   "nbconvert_exporter": "python",
   "pygments_lexer": "ipython3",
   "version": "3.8.3"
  }
 },
 "nbformat": 4,
 "nbformat_minor": 4
}
