{
 "cells": [
  {
   "cell_type": "markdown",
   "metadata": {},
   "source": [
    "`QUESTIONS`\n",
    "Q1. What are the key steps involved in building an end-to-end web application, from development to\n",
    "deployment on the cloud?\n",
    "\n",
    "Q2. Explain the difference between traditional web hosting and cloud hosting.\n",
    "\n",
    "Q3. How do you choose the right cloud provider for your application deployment, and what factors\n",
    "should you consider?\n",
    "\n",
    "Q4. How do you design and build a responsive user interface for your web application, and what are\n",
    "some best practices to follow?\n",
    "\n",
    "Q5. How do you integrate the machine learning model with the user interface for the Algerian Forest Fires\n",
    "project(which we discussed in class), and what APIs or libraries can you use for this purpose?"
   ]
  },
  {
   "cell_type": "markdown",
   "metadata": {},
   "source": [
    "`ANSWERS`\n",
    "Q1. Key steps in building an end-to-end web app include defining requirements, designing the architecture, coding, testing, setting up a version control system, deploying to a cloud platform, and continuous monitoring and updates.\n",
    "\n",
    "Q2. Traditional web hosting involves hosting on a single server, while cloud hosting utilizes virtual servers across a network. Cloud hosting offers scalability, flexibility, and better resource management compared to traditional hosting.\n",
    "\n",
    "Q3. Choose a cloud provider based on factors like scalability, pricing, services offered, geographic locations, and compatibility with your technology stack. Popular providers include AWS, Azure, and Google Cloud.\n",
    "\n",
    "Q4. Design a responsive UI by using a mobile-first approach, flexible grids, media queries, and CSS frameworks like Bootstrap. Follow best practices like optimizing images, minimizing HTTP requests, and testing across various devices.\n",
    "\n",
    "Q5. Integrate a machine learning model with the UI for the Algerian Forest Fires project using frameworks like Flask or Django for backend, and frontend libraries like React or Vue.js. Use APIs or libraries such as TensorFlow.js for client-side ML integration, or communicate with a server-side ML model via RESTful APIs."
   ]
  },
  {
   "cell_type": "code",
   "execution_count": null,
   "metadata": {},
   "outputs": [],
   "source": []
  }
 ],
 "metadata": {
  "kernelspec": {
   "display_name": "Python 3",
   "language": "python",
   "name": "python3"
  },
  "language_info": {
   "codemirror_mode": {
    "name": "ipython",
    "version": 3
   },
   "file_extension": ".py",
   "mimetype": "text/x-python",
   "name": "python",
   "nbconvert_exporter": "python",
   "pygments_lexer": "ipython3",
   "version": "3.8.3"
  }
 },
 "nbformat": 4,
 "nbformat_minor": 4
}
