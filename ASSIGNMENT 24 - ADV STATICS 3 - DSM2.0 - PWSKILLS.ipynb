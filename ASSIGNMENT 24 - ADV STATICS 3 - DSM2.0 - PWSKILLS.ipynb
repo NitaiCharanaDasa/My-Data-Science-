{
 "cells": [
  {
   "cell_type": "markdown",
   "metadata": {},
   "source": [
    "**ASSIGNMENT 24 - ADV STATICS 3 - DSM2.0 - PWSKILLS**"
   ]
  },
  {
   "cell_type": "markdown",
   "metadata": {},
   "source": [
    "**Q1: What is Estimation Statistics? Explain point estimate and interval estimate.**\n",
    "\n"
   ]
  },
  {
   "cell_type": "markdown",
   "metadata": {},
   "source": [
    "Estimation statistics involves using sample data to make inferences or predictions about population parameters. There are two main types of estimates:\n",
    "\n",
    "1. **Point Estimate**:\n",
    "   - A point estimate is a single value that is used to approximate a population parameter, based on sample data.\n",
    "   - For example, if you want to estimate the average height of people in a city, you might take a sample of 100 individuals and calculate their average height. This average would be your point estimate for the population's average height.\n",
    "\n",
    "2. **Interval Estimate**:\n",
    "   - An interval estimate, also known as a confidence interval, provides a range of values within which the true population parameter is likely to fall, along with a level of confidence.\n",
    "   - For instance, using the example above, you might determine that the average height of people in the city is 165 cm with a 95% confidence interval of 160 cm to 170 cm. This means you're 95% confident that the true average height falls within this range.\n",
    "\n"
   ]
  },
  {
   "cell_type": "markdown",
   "metadata": {},
   "source": [
    "**Q2. Write a Python function to estimate the population mean using a sample mean and standard\n",
    "deviation.**"
   ]
  },
  {
   "cell_type": "code",
   "execution_count": 1,
   "metadata": {},
   "outputs": [],
   "source": [
    "\n",
    "import scipy.stats as stats\n",
    "import math\n",
    "\n",
    "def estimate_population_mean(sample_mean, sample_stddev, sample_size, confidence_level=0.95):\n",
    "    z_score = stats.norm.ppf(1 - (1 - confidence_level) / 2)\n",
    "    margin_of_error = z_score * (sample_stddev / math.sqrt(sample_size))\n",
    "    \n",
    "    lower_bound = sample_mean - margin_of_error\n",
    "    upper_bound = sample_mean + margin_of_error\n",
    "    \n",
    "    return lower_bound, upper_bound\n"
   ]
  },
  {
   "cell_type": "code",
   "execution_count": 2,
   "metadata": {},
   "outputs": [
    {
     "name": "stdout",
     "output_type": "stream",
     "text": [
      "The population mean is estimated to be between 146.4216117125657 and 153.5783882874343.\n"
     ]
    }
   ],
   "source": [
    "\n",
    "sample_mean = 150\n",
    "sample_stddev = 10\n",
    "sample_size = 30\n",
    "\n",
    "lower, upper = estimate_population_mean(sample_mean, sample_stddev, sample_size)\n",
    "print(f\"The population mean is estimated to be between {lower} and {upper}.\")"
   ]
  },
  {
   "cell_type": "markdown",
   "metadata": {},
   "source": [
    "\n",
    "\n",
    "**Q3: What is Hypothesis testing? Why is it used? State the importance of Hypothesis testing.**\n",
    "\n"
   ]
  },
  {
   "cell_type": "markdown",
   "metadata": {},
   "source": [
    "Hypothesis testing is a statistical method used to make inferences about a population based on sample data. It involves formulating two competing hypotheses about a parameter, called the null hypothesis (H0) and the alternative hypothesis (H1 or HA), and then using sample data to assess the evidence against the null hypothesis.\n",
    "\n",
    "1. **Null Hypothesis (H0)**:\n",
    "   - This is the hypothesis of no effect or no difference. It represents the status quo or a default assumption.\n",
    "   - For example, if you're testing a new drug, the null hypothesis might state that the drug has no effect compared to a placebo.\n",
    "\n",
    "2. **Alternative Hypothesis (H1 or HA)**:\n",
    "   - This is the hypothesis that contradicts the null hypothesis. It suggests there is a significant effect or difference.\n",
    "   - Using the drug example, the alternative hypothesis would state that the drug does have a significant effect.\n",
    "\n",
    "3. **Sample Data Collection**:\n",
    "   - Data is collected from a sample of the population.\n",
    "\n",
    "4. **Statistical Test**:\n",
    "   - A statistical test is applied to the sample data to determine if it provides enough evidence to reject the null hypothesis.\n",
    "\n",
    "5. **Conclusion**:\n",
    "   - Based on the test results, you either reject the null hypothesis in favor of the alternative hypothesis or fail to reject the null hypothesis (meaning there isn't enough evidence to support the alternative).\n",
    "\n",
    "**Importance of Hypothesis Testing**:\n",
    "   - It provides a structured and objective framework for making decisions based on data and evidence rather than subjective opinions.\n",
    "   - It is fundamental to the scientific method and helps ensure that scientific claims are backed by empirical evidence.\n",
    "\n",
    "   - It allows us to make inferences about an entire population based on a sample, which is often more practical and cost-effective than attempting to st\n",
    "   - It helps control the risk of making a Type I error (false positive), which is the incorrect rejection of a true null hypothesis.\n",
    "   - It adds validity to research findings by providing a systematic and rigorous approach to testing hypotheses."
   ]
  },
  {
   "cell_type": "markdown",
   "metadata": {},
   "source": [
    "**Q4. Create a hypothesis that states whether the average weight of male college students is greater than\n",
    "the average weight of female college students.**"
   ]
  },
  {
   "cell_type": "markdown",
   "metadata": {},
   "source": [
    "**Null Hypothesis (H0)**:\n",
    "The average weight of male college students is equal to or less than the average weight of female college students.\n",
    "\n",
    "**Alternative Hypothesis (H1)**:\n",
    "The average weight of male college students is greater than the average weight of female college students.\n",
    "\n",
    "Symbolically, this can be represented as:\n",
    "\n",
    "H0: μ_male ≤ μ_female\n",
    "H1: μ_male > μ_female\n",
    "\n",
    "Here, μ represents the population mean weight for male and female college students respectively."
   ]
  },
  {
   "cell_type": "markdown",
   "metadata": {},
   "source": [
    "**Q5. Write a Python script to conduct a hypothesis test on the difference between two population means,\n",
    "given a sample from each population.**"
   ]
  },
  {
   "cell_type": "code",
   "execution_count": 3,
   "metadata": {},
   "outputs": [],
   "source": [
    "import scipy.stats as stats\n",
    "\n",
    "def two_sample_t_test(sample1, sample2, alpha=0.05):\n",
    "    \"\"\"\n",
    "    Conducts a two-sample t-test on the difference between means.\n",
    "\n",
    "    Args:\n",
    "        sample1 (list or array-like): Sample data for population 1.\n",
    "        sample2 (list or array-like): Sample data for population 2.\n",
    "        alpha (float, optional): Significance level. Default is 0.05.\n",
    "\n",
    "    Returns:\n",
    "        tuple: t-statistic, p-value, and whether to reject the null hypothesis.\n",
    "    \"\"\"\n",
    "    t_stat, p_value = stats.ttest_ind(sample1, sample2)\n",
    "    reject_null = p_value < alpha\n",
    "\n",
    "    return t_stat, p_value, reject_null"
   ]
  },
  {
   "cell_type": "code",
   "execution_count": 4,
   "metadata": {},
   "outputs": [
    {
     "name": "stdout",
     "output_type": "stream",
     "text": [
      "t-statistic: 4.141189508999872\n",
      "p-value: 0.0006133727423695782\n",
      "Reject Null Hypothesis: True\n"
     ]
    }
   ],
   "source": [
    "# Example usage\n",
    "population1 = [68, 72, 65, 71, 73, 70, 69, 74, 72, 75]\n",
    "population2 = [62, 67, 64, 68, 70, 65, 63, 66, 68, 65]\n",
    "\n",
    "t_stat, p_value, reject_null = two_sample_t_test(population1, population2)\n",
    "\n",
    "print(f\"t-statistic: {t_stat}\")\n",
    "print(f\"p-value: {p_value}\")\n",
    "print(f\"Reject Null Hypothesis: {reject_null}\")"
   ]
  },
  {
   "cell_type": "markdown",
   "metadata": {},
   "source": [
    "**Q6: What is a null and alternative hypothesis? Give some examples.**\n",
    "\n"
   ]
  },
  {
   "cell_type": "markdown",
   "metadata": {},
   "source": [
    "Sure! In statistical hypothesis testing, the null hypothesis (H0) and the alternative hypothesis (H1 or HA) are two competing statements about a population parameter. They help frame the research question and guide the statistical analysis. Here are some examples:\n",
    "\n",
    "1. **Example: Drug Efficacy**\n",
    "   - **Null Hypothesis (H0)**: The new drug has no effect on patients' blood pressure.\n",
    "   - **Alternative Hypothesis (H1)**: The new drug lowers patients' blood pressure.\n",
    "\n",
    "   Symbolically: H0: μ = μ0 vs. H1: μ < μ0 (where μ represents the population mean blood pressure)\n",
    "\n",
    "2. **Example: Gender and Test Scores**\n",
    "   - **Null Hypothesis (H0)**: There is no significant difference in test scores between male and female students.\n",
    "   - **Alternative Hypothesis (H1)**: There is a significant difference in test scores between male and female students.\n",
    "\n",
    "   Symbolically: H0: μ_male = μ_female vs. H1: μ_male ≠ μ_female|"
   ]
  },
  {
   "cell_type": "markdown",
   "metadata": {},
   "source": [
    "Q7: Write down the steps involved in hypothesis testing.\n",
    "\n"
   ]
  },
  {
   "cell_type": "markdown",
   "metadata": {},
   "source": [
    "1. **State the Hypotheses**:\n",
    "   - Formulate the null hypothesis (H0) and the alternative hypothesis (H1 or HA). These statements should be clear, specific, and mutually exclusive.\n",
    "\n",
    "2. **Collect and Prepare the Data**:\n",
    "   - Gather relevant sample data that is representative of the population you're interested in studying. Ensure the data meets the assumptions of the chosen test.\n",
    "\n",
    "3. **Choose a Significance Level**:\n",
    "   - Select a significance level (α), which is the threshold for how much evidence is required to reject the null hypothesis. Common values are 0.05 or 0.01.\n",
    "\n",
    "4. **Select the Test Statistic**:\n",
    "   - Choose an appropriate statistical test based on the type of data and research question. For example, t-test, chi-square test, ANOVA, etc.\n",
    "\n",
    "5. **Calculate the Test Statistic**:\n",
    "   - Compute the test statistic using the sample data. The formula and method will depend on the chosen test.\n",
    "\n",
    "6. **Determine the P-Value**:\n",
    "   - Calculate the p-value associated with the test statistic. The p-value represents the probability of obtaining results as extreme as, or more extreme than, the observed data under the assumption that the null hypothesis is true.\n",
    "\n",
    "7. **Compare the P-Value to the Significance Level**:\n",
    "   - If the p-value is less than or equal to the chosen significance level (p ≤ α), you reject the null hypothesis. This suggests that the observed data is unlikely to occur if the null hypothesis is true.\n",
    "\n",
    "8. **Draw a Conclusion**:\n",
    "   - Based on the comparison of the p-value and significance level, either:\n",
    "     - Reject the null hypothesis in favor of the alternative hypothesis.\n",
    "     - Fail to reject the null hypothesis, meaning there isn't enough evidence to support the alternative.\n",
    "\n",
    "9. **Interpret the Results**:\n",
    "   - Provide an interpretation of the findings in the context of the specific research question. Consider the practical implications of your conclusion.\n",
    "\n",
    "10. **Report the Results**:\n",
    "    - Clearly communicate the findings, including the test statistic, p-value, and the decision regarding the null hypothesis.\n",
    "\n",
    "11. **Consider Limitations and Assumptions**:\n",
    "    - Reflect on any assumptions made during the analysis and any limitations of the study that may affect the interpretation of the results."
   ]
  },
  {
   "cell_type": "markdown",
   "metadata": {},
   "source": [
    "Q8. Define p-value and explain its significance in hypothesis testing.\n",
    "\n"
   ]
  },
  {
   "cell_type": "markdown",
   "metadata": {},
   "source": [
    "The p-value, short for \"probability value,\" is a crucial concept in hypothesis testing. It quantifies the strength of evidence against the null hypothesis (H0) based on sample data. Here's a formal definition and an explanation of its significance:\n",
    "\n",
    "**Definition**:\n",
    "The p-value is the probability of observing a test statistic as extreme as, or more extreme than, the one calculated from the sample data, assuming that the null hypothesis is true.\n",
    "\n",
    "**Significance in Hypothesis Testing**:\n",
    "\n",
    "1. **Decision Criterion**:\n",
    "   - In hypothesis testing, you compare the p-value to the chosen significance level (α) to make a decision about whether to reject or fail to reject the null hypothesis.\n",
    "   - If p ≤ α, you reject the null hypothesis.\n",
    "   - If p > α, you fail to reject the null hypothesis.\n",
    "\n",
    "2. **Interpretation**:\n",
    "   - A small p-value (typically less than the chosen α level, e.g., 0.05) indicates that the observed data is unlikely to occur if the null hypothesis is true. This suggests strong evidence against the null hypothesis.\n",
    "\n",
    "3. **Assessment of Evidence**:\n",
    "   - A smaller p-value implies stronger evidence against the null hypothesis. It doesn't, however, quantify the strength of the effect or the size of the difference.\n",
    "\n",
    "4. **Risk of Type I Error**:\n",
    "   - The p-value helps control the risk of making a Type I error (false positive), which is rejecting the null hypothesis when it's actually true. Choosing a lower α level reduces this risk.\n",
    "\n",
    "5. **Not a Measure of Effect Size**:\n",
    "   - The p-value doesn't tell you the size or practical importance of an effect. It only tells you whether the effect is statistically significant.\n",
    "\n",
    "6. **Context Matters**:\n",
    "   - The interpretation of a p-value depends on the specific research question, the field of study, and the practical implications of the findings.\n",
    "\n",
    "7. **Caution with Interpretation**:\n",
    "   - A non-significant p-value doesn't prove that the null hypothesis is true; it just means there isn't enough evidence to reject it based on the given data."
   ]
  },
  {
   "cell_type": "markdown",
   "metadata": {},
   "source": [
    "Q9. Generate a Student's t-distribution plot using Python's matplotlib library, with the degrees of freedom\n",
    "parameter set to 10.\n",
    "\n"
   ]
  },
  {
   "cell_type": "code",
   "execution_count": 5,
   "metadata": {},
   "outputs": [
    {
     "data": {
      "image/png": "[encoded data removed]",
      "text/plain": [
       "<Figure size 576x432 with 1 Axes>"
      ]
     },
     "metadata": {
      "needs_background": "light"
     },
     "output_type": "display_data"
    }
   ],
   "source": [
    "import matplotlib.pyplot as plt\n",
    "import numpy as np\n",
    "import scipy.stats as stats\n",
    "\n",
    "# Define the degrees of freedom\n",
    "df = 10\n",
    "\n",
    "# Generate x values\n",
    "x = np.linspace(-4, 4, 1000)\n",
    "\n",
    "# Calculate the probability density function (PDF) for the t-distribution\n",
    "pdf = stats.t.pdf(x, df)\n",
    "\n",
    "# Create the plot\n",
    "plt.figure(figsize=(8, 6))\n",
    "plt.plot(x, pdf, label=f'df = {df}')\n",
    "plt.title(f'Student\\'s t-Distribution (df = {df})')\n",
    "plt.xlabel('x')\n",
    "plt.ylabel('Probability Density')\n",
    "plt.legend()\n",
    "plt.grid(True)\n",
    "\n",
    "# Show the plot\n",
    "plt.show()"
   ]
  },
  {
   "cell_type": "markdown",
   "metadata": {},
   "source": [
    "Q10. Write a Python program to calculate the two-sample t-test for independent samples, given two\n",
    "random samples of equal size and a null hypothesis that the population means are equal."
   ]
  },
  {
   "cell_type": "code",
   "execution_count": 6,
   "metadata": {},
   "outputs": [],
   "source": [
    "import scipy.stats as stats\n",
    "import numpy as np\n",
    "\n",
    "def two_sample_t_test(sample1, sample2):\n",
    "    t_stat, p_value = stats.ttest_ind(sample1, sample2)\n",
    "    return t_stat, p_value\n"
   ]
  },
  {
   "cell_type": "code",
   "execution_count": 7,
   "metadata": {},
   "outputs": [],
   "source": [
    "sample1 = np.random.normal(30, 5, 30)  # Example sample 1\n",
    "sample2 = np.random.normal(32, 5, 30)  # Example sample 2"
   ]
  },
  {
   "cell_type": "code",
   "execution_count": 8,
   "metadata": {},
   "outputs": [
    {
     "name": "stdout",
     "output_type": "stream",
     "text": [
      "t-statistic: -2.7832072303045337\n",
      "p-value: 0.007253490393559062\n"
     ]
    }
   ],
   "source": [
    "t_statistic, p_value = two_sample_t_test(sample1, sample2)\n",
    "\n",
    "print(f\"t-statistic: {t_statistic}\")\n",
    "print(f\"p-value: {p_value}\")"
   ]
  },
  {
   "cell_type": "markdown",
   "metadata": {},
   "source": [
    "Q11: What is Student’s t distribution? When to use the t-Distribution.\n",
    "\n"
   ]
  },
  {
   "cell_type": "markdown",
   "metadata": {},
   "source": [
    "Student's t-distribution, often referred to as the t-distribution, is a probability distribution that arises in statistics. It is used for making inferences about a population mean when the sample size is small and the population standard deviation is unknown.\n",
    "\n",
    "Here are some key characteristics and when to use the t-distribution:\n",
    "\n",
    "1. **Characteristics**:\n",
    "   - The t-distribution is symmetric and bell-shaped, similar to the normal distribution.\n",
    "   - It has heavier tails compared to the normal distribution, which makes it more appropriate for smaller sample sizes.\n",
    "\n",
    "2. **When to Use the t-Distribution**:\n",
    "\n",
    "   - **Small Sample Sizes**:\n",
    "     - When the sample size is small (typically less than 30) and the population standard deviation is unknown, the t-distribution is used to make inferences about the population mean.\n",
    "\n",
    "   - **Unknown Population Standard Deviation**:\n",
    "     - When the population standard deviation is unknown, and you're working with sample data, the t-distribution is appropriate. This is common in real-world applications where the population parameters are not known.\n",
    "\n",
    "   - **Estimating Confidence Intervals and Conducting Hypothesis Tests**:\n",
    "     - The t-distribution is often used to calculate confidence intervals and conduct hypothesis tests for population means. This is especially important when the sample size is small.\n",
    "\n",
    "   - **Comparing Means**:\n",
    "     - When comparing the means of two independent samples (e.g., in a two-sample t-test), the t-distribution is used.\n",
    "\n",
    "   - **Accounting for Variability**:\n",
    "     - In situations where there is uncertainty or variability in the data, the t-distribution provides a more accurate estimate of the population parameter.\n",
    "\n",
    "   - **Research with Limited Data**:\n",
    "     - In scientific research, especially in fields like medicine or psychology, where obtaining large sample sizes can be challenging, the t-distribution is commonly used."
   ]
  },
  {
   "cell_type": "markdown",
   "metadata": {},
   "source": [
    "Q12: What is t-statistic? State the formula for t-statistic.\n",
    "\n"
   ]
  },
  {
   "cell_type": "markdown",
   "metadata": {},
   "source": [
    "The t-statistic is a measure used in hypothesis testing to assess whether the difference between sample means is significant, especially when the sample sizes are small and the population standard deviation is unknown. It indicates how many standard errors the sample mean is away from the hypothesized population mean under the null hypothesis.\n",
    "\n"
   ]
  },
  {
   "cell_type": "markdown",
   "metadata": {},
   "source": [
    "Q13. A coffee shop owner wants to estimate the average daily revenue for their shop. They take a random\n",
    "sample of 50 days and find the sample mean revenue to be $ 500 with a standard deviation of $50.\n",
    "Estimate the population mean revenue with a 95% confidence interval.\n",
    "\n"
   ]
  },
  {
   "cell_type": "code",
   "execution_count": 9,
   "metadata": {},
   "outputs": [],
   "source": [
    "import scipy.stats as stats\n",
    "import math\n",
    "\n",
    "# Given data\n",
    "sample_mean = 500\n",
    "sample_stddev = 50\n",
    "sample_size = 50\n",
    "confidence_level = 0.95\n",
    "\n"
   ]
  },
  {
   "cell_type": "code",
   "execution_count": 12,
   "metadata": {},
   "outputs": [],
   "source": [
    "\n",
    "# Calculate the standard error of the mean\n",
    "standard_error = sample_stddev / math.sqrt(sample_size)\n",
    "\n",
    "# Find the critical value (z)\n",
    "z = stats.norm.ppf(1 - (1 - confidence_level) / 2)\n",
    "\n",
    "# Calculate the margin of error\n",
    "margin_of_error = z * standard_error"
   ]
  },
  {
   "cell_type": "code",
   "execution_count": 11,
   "metadata": {},
   "outputs": [
    {
     "name": "stdout",
     "output_type": "stream",
     "text": [
      "The 95% confidence interval for the population mean revenue is ($486.14 - $513.86).\n"
     ]
    }
   ],
   "source": [
    "\n",
    "# Calculate the confidence interval\n",
    "lower_bound = sample_mean - margin_of_error\n",
    "upper_bound = sample_mean + margin_of_error\n",
    "\n",
    "# Print the confidence interval\n",
    "print(f\"The 95% confidence interval for the population mean revenue is (${lower_bound:.2f} - ${upper_bound:.2f}).\")"
   ]
  },
  {
   "cell_type": "markdown",
   "metadata": {},
   "source": [
    "Q14. A researcher hypothesizes that a new drug will decrease blood pressure by 10 mmHg. They conduct a\n",
    "clinical trial with 100 patients and find that the sample mean decrease in blood pressure is 8 mmHg with a\n",
    "standard deviation of 3 mmHg. Test the hypothesis with a significance level of 0.05.\n",
    "\n"
   ]
  },
  {
   "cell_type": "code",
   "execution_count": 13,
   "metadata": {},
   "outputs": [],
   "source": [
    "#- Null Hypothesis (H0): The new drug does not decrease blood pressure by 10 mmHg (\\(\\mu = 10\\)).\n",
    "#- Alternative Hypothesis (H1): The new drug does decrease blood pressure by 10 mmHg"
   ]
  },
  {
   "cell_type": "code",
   "execution_count": 14,
   "metadata": {},
   "outputs": [
    {
     "name": "stdout",
     "output_type": "stream",
     "text": [
      "Reject the null hypothesis.\n"
     ]
    }
   ],
   "source": [
    "import scipy.stats as stats\n",
    "\n",
    "# Given data\n",
    "sample_mean = 8  # Sample mean decrease in blood pressure\n",
    "population_mean = 10  # Hypothesized population mean\n",
    "sample_stddev = 3  # Sample standard deviation\n",
    "sample_size = 100  # Sample size\n",
    "alpha = 0.05  # Significance level\n",
    "\n",
    "# Calculate the t-statistic\n",
    "t_statistic = (sample_mean - population_mean) / (sample_stddev / (sample_size ** 0.5))\n",
    "\n",
    "# Find the critical t-value for a one-tailed test\n",
    "degrees_freedom = sample_size - 1\n",
    "critical_t_value = stats.t.ppf(alpha, df=degrees_freedom)\n",
    "\n",
    "# Perform the hypothesis test\n",
    "if t_statistic < critical_t_value:\n",
    "    print(\"Reject the null hypothesis.\")\n",
    "else:\n",
    "    print(\"Fail to reject the null hypothesis.\")"
   ]
  },
  {
   "cell_type": "markdown",
   "metadata": {},
   "source": [
    "Q15. An electronics company produces a certain type of product with a mean weight of 5 pounds and a\n",
    "standard deviation of 0.5 pounds. A random sample of 25 products is taken, and the sample mean weight\n",
    "is found to be 4.8 pounds. Test the hypothesis that the true mean weight of the products is less than 5\n",
    "pounds with a significance level of 0.01."
   ]
  },
  {
   "cell_type": "code",
   "execution_count": 15,
   "metadata": {},
   "outputs": [
    {
     "name": "stdout",
     "output_type": "stream",
     "text": [
      "Fail to reject the null hypothesis.\n"
     ]
    }
   ],
   "source": [
    "import scipy.stats as stats\n",
    "import math\n",
    "\n",
    "# Given data\n",
    "sample_mean = 4.8\n",
    "population_mean = 5\n",
    "sample_stddev = 0.5\n",
    "sample_size = 25\n",
    "alpha = 0.01\n",
    "\n",
    "# Calculate the t-statistic\n",
    "t_statistic = (sample_mean - population_mean) / (sample_stddev / math.sqrt(sample_size))\n",
    "\n",
    "# Calculate the critical t-value\n",
    "degrees_freedom = sample_size - 1\n",
    "critical_t_value = stats.t.ppf(alpha, df=degrees_freedom)\n",
    "\n",
    "# Perform the hypothesis test\n",
    "if t_statistic < critical_t_value:\n",
    "    print(\"Reject the null hypothesis.\")\n",
    "else:\n",
    "    print(\"Fail to reject the null hypothesis.\")"
   ]
  },
  {
   "cell_type": "markdown",
   "metadata": {},
   "source": [
    "Q16. Two groups of students are given different study materials to prepare for a test. The first group (n1 =\n",
    "30) has a mean score of 80 with a standard deviation of 10, and the second group (n2 = 40) has a mean\n",
    "score of 75 with a standard deviation of 8. Test the hypothesis that the population means for the two\n",
    "groups are equal with a significance level of 0.01.\n",
    "\n"
   ]
  },
  {
   "cell_type": "code",
   "execution_count": 16,
   "metadata": {},
   "outputs": [],
   "source": [
    "#- Null Hypothesis (H0): The population means for the two groups are equal (\\(\\mu_1 = \\mu_2\\)).\n",
    "#- Alternative Hypothesis (H1): The population means for the two groups are not equal (\\(\\mu_1 \\neq \\mu_2\\)).\n",
    "\n",
    "#The significance level (alpha) is 0.01."
   ]
  },
  {
   "cell_type": "code",
   "execution_count": 17,
   "metadata": {},
   "outputs": [
    {
     "name": "stdout",
     "output_type": "stream",
     "text": [
      "Fail to reject the null hypothesis.\n"
     ]
    }
   ],
   "source": [
    "import scipy.stats as stats\n",
    "\n",
    "# Given data for Group 1\n",
    "n1 = 30\n",
    "mean1 = 80\n",
    "stddev1 = 10\n",
    "\n",
    "# Given data for Group 2\n",
    "n2 = 40\n",
    "mean2 = 75\n",
    "stddev2 = 8\n",
    "\n",
    "alpha = 0.01  # Significance level\n",
    "\n",
    "# Calculate the pooled standard deviation\n",
    "pooled_stddev = ((stddev1**2 * (n1 - 1)) + (stddev2**2 * (n2 - 1))) / (n1 + n2 - 2)\n",
    "pooled_stddev = pooled_stddev**0.5\n",
    "\n",
    "# Calculate the t-statistic\n",
    "t_statistic = (mean1 - mean2) / (pooled_stddev * ((1/n1) + (1/n2))**0.5)\n",
    "\n",
    "# Find the critical t-value for a two-tailed test\n",
    "degrees_freedom = n1 + n2 - 2\n",
    "critical_t_value = stats.t.ppf(1 - (alpha / 2), df=degrees_freedom)\n",
    "\n",
    "# Perform the hypothesis test\n",
    "if abs(t_statistic) > critical_t_value:\n",
    "    print(\"Reject the null hypothesis.\")\n",
    "else:\n",
    "    print(\"Fail to reject the null hypothesis.\")"
   ]
  },
  {
   "cell_type": "markdown",
   "metadata": {},
   "source": [
    "Q17. A marketing company wants to estimate the average number of ads watched by viewers during a TV\n",
    "program. They take a random sample of 50 viewers and find that the sample mean is 4 with a standard\n",
    "deviation of 1.5. Estimate the population mean with a 99% confidence interval."
   ]
  },
  {
   "cell_type": "code",
   "execution_count": 18,
   "metadata": {},
   "outputs": [
    {
     "name": "stdout",
     "output_type": "stream",
     "text": [
      "The 99% confidence interval for the population mean number of ads watched is (3.45 - 4.55).\n"
     ]
    }
   ],
   "source": [
    "import scipy.stats as stats\n",
    "import math\n",
    "\n",
    "# Given data\n",
    "sample_mean = 4\n",
    "sample_stddev = 1.5\n",
    "sample_size = 50\n",
    "confidence_level = 0.99\n",
    "\n",
    "# Calculate the standard error of the mean\n",
    "standard_error = sample_stddev / math.sqrt(sample_size)\n",
    "\n",
    "# Find the critical value (z)\n",
    "z = stats.norm.ppf(1 - (1 - confidence_level) / 2)\n",
    "\n",
    "# Calculate the margin of error\n",
    "margin_of_error = z * standard_error\n",
    "\n",
    "# Calculate the confidence interval\n",
    "lower_bound = sample_mean - margin_of_error\n",
    "upper_bound = sample_mean + margin_of_error\n",
    "\n",
    "# Print the confidence interval\n",
    "print(f\"The 99% confidence interval for the population mean number of ads watched is ({lower_bound:.2f} - {upper_bound:.2f}).\")"
   ]
  }
 ],
 "metadata": {
  "kernelspec": {
   "display_name": "Python 3",
   "language": "python",
   "name": "python3"
  },
  "language_info": {
   "codemirror_mode": {
    "name": "ipython",
    "version": 3
   },
   "file_extension": ".py",
   "mimetype": "text/x-python",
   "name": "python",
   "nbconvert_exporter": "python",
   "pygments_lexer": "ipython3",
   "version": "3.8.3"
  }
 },
 "nbformat": 4,
 "nbformat_minor": 4
}
