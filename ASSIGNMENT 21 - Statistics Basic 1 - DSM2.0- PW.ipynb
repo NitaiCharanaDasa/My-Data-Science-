{
 "cells": [
  {
   "cell_type": "markdown",
   "metadata": {},
   "source": [
    "# Statistics Basic Assignment 1"
   ]
  },
  {
   "cell_type": "markdown",
   "metadata": {},
   "source": [
    "**Q1. What is Statistics?**\n"
   ]
  },
  {
   "cell_type": "markdown",
   "metadata": {},
   "source": [
    "Staticsitcs is the branch of the mathematics that involves collecting snalyzing, interpreting and presenting data. It helps in understandin the data and bring down the conclusions."
   ]
  },
  {
   "cell_type": "markdown",
   "metadata": {},
   "source": [
    "**Q2. Define the different types of statistics and give an example of when each type might be used.**"
   ]
  },
  {
   "cell_type": "markdown",
   "metadata": {},
   "source": [
    "There are two types of statistics :\n",
    "1. **Descriptive Stat:** This is used to summarize the main features of the dataset.\n",
    "**Example :** Mean, Meadian, Mode, Standard Deviation etc\n",
    "2. **Inferential Statistics:** This is used to draw conslcusions adn make predictions.\n",
    "**Example :** Hypothesis testing, Analysis"
   ]
  },
  {
   "cell_type": "markdown",
   "metadata": {},
   "source": [
    "**Q3.  What are the different types of data and how do they differ from each other? Provide an example of\n",
    "each type of data.**"
   ]
  },
  {
   "cell_type": "markdown",
   "metadata": {},
   "source": [
    "There are two types of data :\n",
    "1. **Quantitative Data**: This type of data can be counted. It deals with quantities and amounts.\n",
    "**Example :** Number of cars, Height of individuals.\n",
    "2. **Qualitative Data**: This type of data cannot be measures, it describes the qualities or the characteristics and cannot be measured.\n",
    "**Example:** colors, types of animals"
   ]
  },
  {
   "cell_type": "markdown",
   "metadata": {},
   "source": [
    "**Q4. Categorise the following datasets with respect to quantitative and qualitative data types:**\n",
    "\n",
    "**(i)\tGrading in exam: A+, A, B+, B, C+, C, D, E**\n",
    "\n",
    "**(ii)\tColour of mangoes: yellow, green, orange, red**\n",
    "\n",
    "**(iii)\tHeight data of a class: [178.9, 179, 179.5, 176, 177.2, 178.3, 175.8,...]**\n",
    "\n",
    "**(iv)\tNumber of mangoes exported by a farm: [500, 600, 478, 672, …]**"
   ]
  },
  {
   "cell_type": "markdown",
   "metadata": {},
   "source": [
    "Ans (i) Qualitative\n",
    "Ans (ii) Qualitative\n",
    "Ans (iii) Quantitative\n",
    "Ans (iv) Quantitative"
   ]
  },
  {
   "cell_type": "markdown",
   "metadata": {},
   "source": [
    "**Q5. Explain the concept of levels of measurement and give an example of a variable for each level.**"
   ]
  },
  {
   "cell_type": "markdown",
   "metadata": {},
   "source": [
    "Nominal Level:\n",
    "\n",
    "This is the lowest level of measurement.\n",
    "Data at this level are categorical and can only be classified into distinct categories without any meaningful order or ranking.\n",
    "Examples include colors, types of animals, and gender.\n",
    "\n",
    "Ordinal Level:\n",
    "\n",
    "Data at this level can be categorized, and there is a meaningful order or ranking between the categories.\n",
    "However, the intervals between the categories are not uniform or equal.\n",
    "Examples include education levels (e.g., high school, college, postgraduate) and customer satisfaction ratings (e.g., very dissatisfied, dissatisfied, neutral, satisfied, very satisfied).\n",
    "\n",
    "Interval Level:\n",
    "\n",
    "Data at this level have a consistent interval or gap between the values, but there is no true zero point.\n",
    "This means that it doesn't make sense to say that one value is \"twice\" or \"half\" of another.\n",
    "Examples include temperature measured in Celsius or Fahrenheit.\n",
    "\n",
    "Ratio Level:\n",
    "\n",
    "This is the highest level of measurement.\n",
    "Data at this level have a consistent interval between values, and they also have a true zero point.\n",
    "This allows for meaningful comparisons like saying one value is \"twice\" or \"half\" of another.\n",
    "Examples include height, weight, age, income, and counts of items"
   ]
  },
  {
   "cell_type": "markdown",
   "metadata": {},
   "source": [
    "**Q6. Why is it important to understand the level of measurement when analyzing data? Provide an\n",
    "example to illustrate your answer.**"
   ]
  },
  {
   "cell_type": "markdown",
   "metadata": {},
   "source": [
    "Appropriate Statistical Analysis:\n",
    "\n",
    "Knowing the level of measurement guides the choice of statistical methods and analyses. For instance, certain statistical tests and operations are only valid for specific levels of measurement. For example, you can perform arithmetic operations on data at the interval or ratio level, but not on nominal or ordinal data.\n",
    "\n",
    "Interpretability of Results:\n",
    "\n",
    "Understanding the level of measurement helps in interpreting the results correctly. It ensures that the conclusions drawn from the analysis are meaningful and relevant to the context of the data.\n",
    "\n",
    "For example, if you're working with ordinal data (like customer satisfaction ratings), you know that you can say one category is ranked higher than another, but you can't make precise statements about the exact differences between categories.\n",
    "\n",
    "Example:\n",
    "\n",
    "Let's say you're conducting a study on customer feedback for a product. You collect data on customer satisfaction using a Likert scale (e.g., very dissatisfied, dissatisfied, neutral, satisfied, very satisfied). This data is at the ordinal level because there is a meaningful order between the categories, but the intervals between them are not uniform.\n",
    "\n",
    "Understanding the level of measurement in this case would lead you to choose appropriate statistical analyses. For example, you might use non-parametric tests suited for ordinal data to analyze differences in satisfaction levels between different groups, rather than assuming equal intervals and using a parametric test like a t-test.\n"
   ]
  },
  {
   "cell_type": "markdown",
   "metadata": {},
   "source": [
    "**Q7. How nominal data type is different from ordinal data type.**"
   ]
  },
  {
   "cell_type": "markdown",
   "metadata": {},
   "source": [
    "Nominal and ordinal data are both types of categorical data, but they differ in the level of measurement and the nature of the categories.\n",
    "\n",
    "Nominal Data:\n",
    "\n",
    "Nominal data represent categories or labels without any inherent order or ranking.\n",
    "The categories are mutually exclusive, meaning an observation can only belong to one category.\n",
    "Examples of nominal data include colors, types of animals, or gender.\n",
    "You can assign numbers to represent categories, but these numbers don't have any mathematical significance in the context of the data.\n",
    "Example:\n",
    "\n",
    "Colors: Red, Blue, Green\n",
    "    \n",
    "Ordinal Data:\n",
    "\n",
    "Ordinal data also represent categories, but there is a meaningful order or ranking between them.\n",
    "The categories have a clear hierarchy, but the intervals between them are not necessarily equal or consistent.\n",
    "Ordinal data provide information about the relative position or preference of categories, but they don't quantify the magnitude of the differences.\n",
    "Examples of ordinal data include education levels (e.g., high school, college, postgraduate) or customer satisfaction ratings. "
   ]
  },
  {
   "cell_type": "markdown",
   "metadata": {},
   "source": [
    "**Q8. Which type of plot can be used to display data in terms of range?**"
   ]
  },
  {
   "cell_type": "markdown",
   "metadata": {},
   "source": [
    "To display items in terms of range, a box plot or box-and-whisker plot is a suitable choice.\n",
    "\n",
    "A box plot provides a visual representation of the distribution of a dataset and highlights the central tendency, spread, and any potential outliers. It's particularly effective for displaying the range, quartiles, and potential outliers of a dataset."
   ]
  },
  {
   "cell_type": "markdown",
   "metadata": {},
   "source": [
    "**Q9. Describe the difference between descriptive and inferential statistics. Give an example of each\n",
    "type of statistics and explain how they are used.**"
   ]
  },
  {
   "cell_type": "markdown",
   "metadata": {},
   "source": [
    "**Descriptive Statistics:**\n",
    "\n",
    "Descriptive statistics involves methods for summarizing and presenting data in a meaningful way. It's about organizing and simplifying large amounts of data to make it more understandable. Descriptive statistics do not involve making inferences or predictions about a larger population based on a sample.\n",
    "\n",
    "Examples:\n",
    "\n",
    "Measures of Central Tendency:\n",
    "\n",
    "Mean, Median, Mode\n",
    "Example: Calculating the average height of students in a class.\n",
    "Measures of Dispersion:\n",
    "\n",
    "Range, Variance, Standard Deviation\n",
    "Example: Determining the spread of exam scores in a class.\n",
    "\n",
    "**Inferential Statistics:**\n",
    "\n",
    "Inferential statistics involves making inferences, predictions, or generalizations about a larger population based on a sample of data. It uses probability theory to estimate population parameters and test hypotheses. Inferential statistics are used when you want to draw conclusions beyond the specific data you have collected.\n",
    "\n",
    "Examples:\n",
    "\n",
    "Hypothesis Testing:\n",
    "\n",
    "Comparing two groups to determine if there is a significant difference.\n",
    "Example: Testing whether a new drug is more effective than an existing one."
   ]
  },
  {
   "cell_type": "markdown",
   "metadata": {},
   "source": [
    "**Q10. What are some common measures of central tendency and variability used in statistics? Explain\n",
    "how each measure can be used to describe a dataset.**"
   ]
  },
  {
   "cell_type": "markdown",
   "metadata": {},
   "source": [
    "Measures of Central Tendency:\n",
    "\n",
    "Mean:\n",
    "\n",
    "The mean is the average of a set of data points. It's calculated by summing up all the values and dividing by the total number of observations.\n",
    "Usefulness: The mean provides a measure of the central or typical value in a dataset. It's sensitive to extreme values, so it's important to be cautious of outliers.\n",
    "\n",
    "Median:\n",
    "\n",
    "The median is the middle value when the data is sorted in ascending order. If there is an even number of observations, it's the average of the two middle values.\n",
    "Usefulness: The median is less sensitive to outliers compared to the mean. It provides a measure of central tendency that's not skewed by extreme values.\n",
    "\n",
    "Mode:\n",
    "\n",
    "The mode is the value that occurs most frequently in a dataset.\n",
    "Usefulness: The mode is useful for identifying the most common category or value in a dataset, especially for categorical or discrete data.\n",
    "\n",
    "Measures of Variability or Dispersion:\n",
    "\n",
    "Range:\n",
    "\n",
    "The range is the difference between the highest and lowest values in a dataset.\n",
    "Usefulness: The range gives an idea of the spread or extent of the data values.\n",
    "\n",
    "Variance:\n",
    "\n",
    "Variance measures the average squared deviation of each data point from the mean. It's a measure of the spread of the data.\n",
    "Usefulness: Variance provides a more detailed view of the dispersion, but the value itself is in squared units, which might not be as interpretable.\n",
    "\n",
    "Standard Deviation:\n",
    "\n",
    "The standard deviation is the square root of the variance. It represents the average deviation of each data point from the mean in the same units as the original data.\n",
    "Usefulness: Standard deviation is widely used because it provides a measure of dispersion that's easy to interpret. It gives an idea of how tightly or loosely the data points are clustered around the mean."
   ]
  },
  {
   "cell_type": "code",
   "execution_count": null,
   "metadata": {},
   "outputs": [],
   "source": []
  }
 ],
 "metadata": {
  "kernelspec": {
   "display_name": "Python 3",
   "language": "python",
   "name": "python3"
  },
  "language_info": {
   "codemirror_mode": {
    "name": "ipython",
    "version": 3
   },
   "file_extension": ".py",
   "mimetype": "text/x-python",
   "name": "python",
   "nbconvert_exporter": "python",
   "pygments_lexer": "ipython3",
   "version": "3.8.3"
  }
 },
 "nbformat": 4,
 "nbformat_minor": 4
}
